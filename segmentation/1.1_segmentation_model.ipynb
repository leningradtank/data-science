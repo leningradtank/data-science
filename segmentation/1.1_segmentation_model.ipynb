{
 "cells": [
  {
   "cell_type": "code",
   "execution_count": 35,
   "id": "7f2bb96f-c013-4969-ba9f-656e4cfd8026",
   "metadata": {},
   "outputs": [],
   "source": [
    "import sqlalchemy as sql\n",
    "import psycopg2 \n",
    "import pandas.io.sql as sqlio\n",
    "import pandas as pd\n",
    "from functools import reduce\n",
    "import sqlalchemy\n",
    "import seaborn as sns\n",
    "import matplotlib.pyplot as plt"
   ]
  },
  {
   "cell_type": "code",
   "execution_count": 34,
   "id": "fdf0370f-8c82-4a9d-a165-8bb8f8532ee2",
   "metadata": {},
   "outputs": [
    {
     "name": "stdout",
     "output_type": "stream",
     "text": [
      "Requirement already satisfied: sea in /opt/conda/lib/python3.9/site-packages (2.3.2)\n",
      "Requirement already satisfied: grpcio<1.44.0,>=1.27.0 in /opt/conda/lib/python3.9/site-packages (from sea) (1.43.0)\n",
      "Requirement already satisfied: pendulum in /opt/conda/lib/python3.9/site-packages (from sea) (2.1.2)\n",
      "Requirement already satisfied: grpcio-tools<1.44.0,>=1.27.0 in /opt/conda/lib/python3.9/site-packages (from sea) (1.43.0)\n",
      "Requirement already satisfied: blinker in /opt/conda/lib/python3.9/site-packages (from sea) (1.4)\n",
      "Requirement already satisfied: jinja2 in /opt/conda/lib/python3.9/site-packages (from sea) (2.11.3)\n",
      "Requirement already satisfied: six>=1.5.2 in /opt/conda/lib/python3.9/site-packages (from grpcio<1.44.0,>=1.27.0->sea) (1.16.0)\n",
      "Requirement already satisfied: protobuf<4.0dev,>=3.5.0.post1 in /opt/conda/lib/python3.9/site-packages (from grpcio-tools<1.44.0,>=1.27.0->sea) (3.19.4)\n",
      "Requirement already satisfied: setuptools in /opt/conda/lib/python3.9/site-packages (from grpcio-tools<1.44.0,>=1.27.0->sea) (62.1.0)\n",
      "Requirement already satisfied: MarkupSafe>=0.23 in /opt/conda/lib/python3.9/site-packages (from jinja2->sea) (2.0.1)\n",
      "Requirement already satisfied: python-dateutil<3.0,>=2.6 in /opt/conda/lib/python3.9/site-packages (from pendulum->sea) (2.8.2)\n",
      "Requirement already satisfied: pytzdata>=2020.1 in /opt/conda/lib/python3.9/site-packages (from pendulum->sea) (2020.1)\n",
      "Requirement already satisfied: kneed in /opt/conda/lib/python3.9/site-packages (0.7.0)\n",
      "Requirement already satisfied: numpy>=1.14.2 in /opt/conda/lib/python3.9/site-packages (from kneed) (1.21.6)\n",
      "Requirement already satisfied: scipy in /opt/conda/lib/python3.9/site-packages (from kneed) (1.8.0)\n",
      "Requirement already satisfied: matplotlib in /opt/conda/lib/python3.9/site-packages (from kneed) (3.5.1)\n",
      "Requirement already satisfied: kiwisolver>=1.0.1 in /opt/conda/lib/python3.9/site-packages (from matplotlib->kneed) (1.4.2)\n",
      "Requirement already satisfied: fonttools>=4.22.0 in /opt/conda/lib/python3.9/site-packages (from matplotlib->kneed) (4.33.2)\n",
      "Requirement already satisfied: packaging>=20.0 in /opt/conda/lib/python3.9/site-packages (from matplotlib->kneed) (21.3)\n",
      "Requirement already satisfied: cycler>=0.10 in /opt/conda/lib/python3.9/site-packages (from matplotlib->kneed) (0.11.0)\n",
      "Requirement already satisfied: python-dateutil>=2.7 in /opt/conda/lib/python3.9/site-packages (from matplotlib->kneed) (2.8.2)\n",
      "Requirement already satisfied: pillow>=6.2.0 in /opt/conda/lib/python3.9/site-packages (from matplotlib->kneed) (9.1.0)\n",
      "Requirement already satisfied: pyparsing>=2.2.1 in /opt/conda/lib/python3.9/site-packages (from matplotlib->kneed) (3.0.8)\n",
      "Requirement already satisfied: six>=1.5 in /opt/conda/lib/python3.9/site-packages (from python-dateutil>=2.7->matplotlib->kneed) (1.16.0)\n",
      "\u001b[31mERROR: Could not find a version that satisfies the requirement mpl_toolkits (from versions: none)\u001b[0m\u001b[31m\n",
      "\u001b[0m\u001b[31mERROR: No matching distribution found for mpl_toolkits\u001b[0m\u001b[31m\n",
      "\u001b[0mCollecting pandasql\n",
      "  Downloading pandasql-0.7.3.tar.gz (26 kB)\n",
      "  Preparing metadata (setup.py) ... \u001b[?25ldone\n",
      "\u001b[?25hRequirement already satisfied: numpy in /opt/conda/lib/python3.9/site-packages (from pandasql) (1.21.6)\n",
      "Requirement already satisfied: pandas in /opt/conda/lib/python3.9/site-packages (from pandasql) (1.4.2)\n",
      "Requirement already satisfied: sqlalchemy in /opt/conda/lib/python3.9/site-packages (from pandasql) (1.3.24)\n",
      "Requirement already satisfied: python-dateutil>=2.8.1 in /opt/conda/lib/python3.9/site-packages (from pandas->pandasql) (2.8.2)\n",
      "Requirement already satisfied: pytz>=2020.1 in /opt/conda/lib/python3.9/site-packages (from pandas->pandasql) (2022.1)\n",
      "Requirement already satisfied: six>=1.5 in /opt/conda/lib/python3.9/site-packages (from python-dateutil>=2.8.1->pandas->pandasql) (1.16.0)\n",
      "Building wheels for collected packages: pandasql\n",
      "  Building wheel for pandasql (setup.py) ... \u001b[?25ldone\n",
      "\u001b[?25h  Created wheel for pandasql: filename=pandasql-0.7.3-py3-none-any.whl size=26784 sha256=9ba8951599603506117baa3fed77893c6ba14aaf38e5bfd5f258882f2840610e\n",
      "  Stored in directory: /home/jovyan/.cache/pip/wheels/63/e8/ec/75b1df467ecf57b6ececb32cb16f4e86697cbfe55cb0c51f07\n",
      "Successfully built pandasql\n",
      "Installing collected packages: pandasql\n",
      "Successfully installed pandasql-0.7.3\n"
     ]
    }
   ],
   "source": [
    "!pip install sea\n",
    "!pip install kneed\n",
    "!pip install mpl_toolkits\n",
    "!pip install pandasql"
   ]
  },
  {
   "cell_type": "code",
   "execution_count": 48,
   "id": "8f61913a-3d2b-4fbe-a83f-0a9a8311d620",
   "metadata": {},
   "outputs": [
    {
     "name": "stdout",
     "output_type": "stream",
     "text": [
      "Collecting flask_sqlalchemy\n",
      "  Downloading Flask_SQLAlchemy-2.5.1-py2.py3-none-any.whl (17 kB)\n",
      "Collecting Flask>=0.10\n",
      "  Downloading Flask-2.1.2-py3-none-any.whl (95 kB)\n",
      "\u001b[2K     \u001b[90m━━━━━━━━━━━━━━━━━━━━━━━━━━━━━━━━━━━━━━━━\u001b[0m \u001b[32m95.2/95.2 KB\u001b[0m \u001b[31m12.9 MB/s\u001b[0m eta \u001b[36m0:00:00\u001b[0m\n",
      "\u001b[?25hRequirement already satisfied: SQLAlchemy>=0.8.0 in /opt/conda/lib/python3.9/site-packages (from flask_sqlalchemy) (1.3.24)\n",
      "Requirement already satisfied: importlib-metadata>=3.6.0 in /opt/conda/lib/python3.9/site-packages (from Flask>=0.10->flask_sqlalchemy) (4.11.3)\n",
      "Collecting itsdangerous>=2.0\n",
      "  Downloading itsdangerous-2.1.2-py3-none-any.whl (15 kB)\n",
      "Collecting Jinja2>=3.0\n",
      "  Downloading Jinja2-3.1.2-py3-none-any.whl (133 kB)\n",
      "\u001b[2K     \u001b[90m━━━━━━━━━━━━━━━━━━━━━━━━━━━━━━━━━━━━━━\u001b[0m \u001b[32m133.1/133.1 KB\u001b[0m \u001b[31m21.0 MB/s\u001b[0m eta \u001b[36m0:00:00\u001b[0m\n",
      "\u001b[?25hRequirement already satisfied: click>=8.0 in /opt/conda/lib/python3.9/site-packages (from Flask>=0.10->flask_sqlalchemy) (8.1.2)\n",
      "Requirement already satisfied: Werkzeug>=2.0 in /opt/conda/lib/python3.9/site-packages (from Flask>=0.10->flask_sqlalchemy) (2.1.1)\n",
      "Requirement already satisfied: zipp>=0.5 in /opt/conda/lib/python3.9/site-packages (from importlib-metadata>=3.6.0->Flask>=0.10->flask_sqlalchemy) (3.8.0)\n",
      "Requirement already satisfied: MarkupSafe>=2.0 in /opt/conda/lib/python3.9/site-packages (from Jinja2>=3.0->Flask>=0.10->flask_sqlalchemy) (2.0.1)\n",
      "Installing collected packages: Jinja2, itsdangerous, Flask, flask_sqlalchemy\n",
      "  Attempting uninstall: Jinja2\n",
      "    Found existing installation: Jinja2 2.11.3\n",
      "    Uninstalling Jinja2-2.11.3:\n",
      "      Successfully uninstalled Jinja2-2.11.3\n",
      "\u001b[31mERROR: pip's dependency resolver does not currently take into account all the packages that are installed. This behaviour is the source of the following dependency conflicts.\n",
      "dbt-core 1.0.3 requires Jinja2==2.11.3, but you have jinja2 3.1.2 which is incompatible.\u001b[0m\u001b[31m\n",
      "\u001b[0mSuccessfully installed Flask-2.1.2 Jinja2-3.1.2 flask_sqlalchemy-2.5.1 itsdangerous-2.1.2\n"
     ]
    }
   ],
   "source": [
    "!pip install flask_sqlalchemy"
   ]
  },
  {
   "cell_type": "code",
   "execution_count": 36,
   "id": "ef48ecf4-a097-4a46-92df-8e96ea4803ef",
   "metadata": {},
   "outputs": [],
   "source": [
    "import sea\n",
    "from kneed import KneeLocator\n",
    "from sklearn.datasets import make_blobs\n",
    "from sklearn.cluster import KMeans\n",
    "from sklearn.metrics import silhouette_score\n",
    "from sklearn.preprocessing import StandardScaler\n",
    "from sklearn.decomposition import PCA\n",
    "from mpl_toolkits.mplot3d import Axes3D\n",
    "from pandasql import sqldf"
   ]
  },
  {
   "cell_type": "code",
   "execution_count": 4,
   "id": "fa1ca927-7058-4702-92ef-6e9de953d855",
   "metadata": {},
   "outputs": [],
   "source": [
    "engine = sqlalchemy.create_engine('postgresql')"
   ]
  },
  {
   "cell_type": "code",
   "execution_count": 5,
   "id": "89559831-fdcc-4a6d-85f9-799ce0fa4357",
   "metadata": {},
   "outputs": [],
   "source": [
    "query = ''' with equity_avg as (\n",
    "select user_account , percentile_cont(0.5) within group (order by avg_equity) as median_equity\n",
    "from (\n",
    "select user_account, sum(max_equity_month)/count(month_of) as avg_equity\n",
    "from (\n",
    "select a.user_account,date_trunc('month', asof) as month_of, max(db.equity) as max_equity_month\n",
    "from equity db \n",
    "left join accounts A on a.id = db.account_id\n",
    "and asof >= current_date - 90\n",
    "and db.equity > 0\n",
    "and a.user_account is not NULL\n",
    "group by 1, 2\n",
    ")query1\n",
    "group by 1\n",
    ")query2\n",
    "group by 1\n",
    "),\n",
    "\n",
    "median_orders as (\n",
    "select orders.account, count(orders.id)/count(distinct date_trunc('day', filled_at)) as orders_per_day\n",
    "from orders \n",
    "left join accounts A on a.user_account = orders.account \n",
    "left join assets ast ON ast.id::uuid=orders.asset_id::uuid\n",
    "where filled_at > current_date - 180\n",
    "and filled_at is not NULL\n",
    "and ast.class = 'global'\n",
    "group by 1\n",
    "\n",
    ")\n",
    "\n",
    "\n",
    "select mo.account, mo.orders_per_day, ea.median_equity\n",
    "from median_orders mo\n",
    "left join equity_avg ea on ea.user_account = mo.account \n",
    "\n",
    "\n",
    "'''"
   ]
  },
  {
   "cell_type": "code",
   "execution_count": 6,
   "id": "e66f2b3c-5dbb-4551-841a-2a9fc720a9ea",
   "metadata": {},
   "outputs": [],
   "source": [
    "df = pd.read_sql_query(query, engine)\n",
    "df = df.dropna()"
   ]
  },
  {
   "cell_type": "code",
   "execution_count": 7,
   "id": "c21023cf-350b-4b2b-aedc-f521a270182a",
   "metadata": {},
   "outputs": [
    {
     "data": {
      "text/html": [
       "<div>\n",
       "<style scoped>\n",
       "    .dataframe tbody tr th:only-of-type {\n",
       "        vertical-align: middle;\n",
       "    }\n",
       "\n",
       "    .dataframe tbody tr th {\n",
       "        vertical-align: top;\n",
       "    }\n",
       "\n",
       "    .dataframe thead th {\n",
       "        text-align: right;\n",
       "    }\n",
       "</style>\n",
       "<table border=\"1\" class=\"dataframe\">\n",
       "  <thead>\n",
       "    <tr style=\"text-align: right;\">\n",
       "      <th></th>\n",
       "      <th>orders_per_day</th>\n",
       "      <th>median_equity</th>\n",
       "    </tr>\n",
       "  </thead>\n",
       "  <tbody>\n",
       "    <tr>\n",
       "      <th>count</th>\n",
       "      <td>3530.000000</td>\n",
       "      <td>3.530000e+03</td>\n",
       "    </tr>\n",
       "    <tr>\n",
       "      <th>mean</th>\n",
       "      <td>21.547025</td>\n",
       "      <td>3.215205e+04</td>\n",
       "    </tr>\n",
       "    <tr>\n",
       "      <th>std</th>\n",
       "      <td>133.725878</td>\n",
       "      <td>4.610469e+05</td>\n",
       "    </tr>\n",
       "    <tr>\n",
       "      <th>min</th>\n",
       "      <td>1.000000</td>\n",
       "      <td>1.000000e-02</td>\n",
       "    </tr>\n",
       "    <tr>\n",
       "      <th>25%</th>\n",
       "      <td>1.000000</td>\n",
       "      <td>1.669688e+02</td>\n",
       "    </tr>\n",
       "    <tr>\n",
       "      <th>50%</th>\n",
       "      <td>2.000000</td>\n",
       "      <td>2.039418e+03</td>\n",
       "    </tr>\n",
       "    <tr>\n",
       "      <th>75%</th>\n",
       "      <td>5.000000</td>\n",
       "      <td>2.106775e+04</td>\n",
       "    </tr>\n",
       "    <tr>\n",
       "      <th>max</th>\n",
       "      <td>4661.000000</td>\n",
       "      <td>2.418932e+07</td>\n",
       "    </tr>\n",
       "  </tbody>\n",
       "</table>\n",
       "</div>"
      ],
      "text/plain": [
       "       orders_per_day  median_equity\n",
       "count     3530.000000   3.530000e+03\n",
       "mean        21.547025   3.215205e+04\n",
       "std        133.725878   4.610469e+05\n",
       "min          1.000000   1.000000e-02\n",
       "25%          1.000000   1.669688e+02\n",
       "50%          2.000000   2.039418e+03\n",
       "75%          5.000000   2.106775e+04\n",
       "max       4661.000000   2.418932e+07"
      ]
     },
     "execution_count": 7,
     "metadata": {},
     "output_type": "execute_result"
    }
   ],
   "source": [
    "df.describe()"
   ]
  },
  {
   "cell_type": "code",
   "execution_count": 52,
   "id": "b25ce501-df5b-42e8-8159-0bcc67c8c595",
   "metadata": {},
   "outputs": [
    {
     "name": "stderr",
     "output_type": "stream",
     "text": [
      "/opt/conda/lib/python3.9/site-packages/seaborn/_decorators.py:36: FutureWarning: Pass the following variables as keyword args: x, y. From version 0.12, the only valid positional argument will be `data`, and passing other arguments without an explicit keyword will result in an error or misinterpretation.\n",
      "  warnings.warn(\n",
      "/opt/conda/lib/python3.9/site-packages/seaborn/_decorators.py:36: FutureWarning: Pass the following variables as keyword args: x, y. From version 0.12, the only valid positional argument will be `data`, and passing other arguments without an explicit keyword will result in an error or misinterpretation.\n",
      "  warnings.warn(\n"
     ]
    },
    {
     "data": {
      "image/png": "[encoded data removed]",
      "text/plain": [
       "<Figure size 432x288 with 1 Axes>"
      ]
     },
     "metadata": {
      "needs_background": "light"
     },
     "output_type": "display_data"
    },
    {
     "data": {
      "image/png": "[encoded data removed]",
      "text/plain": [
       "<Figure size 360x360 with 1 Axes>"
      ]
     },
     "metadata": {
      "needs_background": "light"
     },
     "output_type": "display_data"
    }
   ],
   "source": [
    "#Plotting to see where the distribution lies\n",
    "sns.scatterplot('median_equity', 'orders_per_day', hue='orders_per_day', data=df);\n",
    "sns.lmplot('median_equity', 'orders_per_day', data=df);\n",
    "plt.title('Equity to orders per day');"
   ]
  },
  {
   "cell_type": "code",
   "execution_count": 53,
   "id": "154ec3c7-7a76-4c15-86c5-6845ab663390",
   "metadata": {},
   "outputs": [],
   "source": [
    "data = df.reset_index().drop('index',axis=1)"
   ]
  },
  {
   "cell_type": "markdown",
   "id": "e3c94009-663a-4e98-9910-2ffa6a969289",
   "metadata": {
    "tags": []
   },
   "source": [
    "#### Feature scaling for a ML model is very important and standardizing is one of the methods of doing so. We will standardize all variables in the dataset to get them around the same scale between 0-1"
   ]
  },
  {
   "cell_type": "code",
   "execution_count": 54,
   "id": "aee972ef-da07-4d14-ae22-64ea0f41183b",
   "metadata": {},
   "outputs": [
    {
     "data": {
      "text/html": [
       "<div>\n",
       "<style scoped>\n",
       "    .dataframe tbody tr th:only-of-type {\n",
       "        vertical-align: middle;\n",
       "    }\n",
       "\n",
       "    .dataframe tbody tr th {\n",
       "        vertical-align: top;\n",
       "    }\n",
       "\n",
       "    .dataframe thead th {\n",
       "        text-align: right;\n",
       "    }\n",
       "</style>\n",
       "<table border=\"1\" class=\"dataframe\">\n",
       "  <thead>\n",
       "    <tr style=\"text-align: right;\">\n",
       "      <th></th>\n",
       "      <th>orders_per_day</th>\n",
       "      <th>median_equity</th>\n",
       "    </tr>\n",
       "  </thead>\n",
       "  <tbody>\n",
       "    <tr>\n",
       "      <th>0</th>\n",
       "      <td>-0.146193</td>\n",
       "      <td>-0.065906</td>\n",
       "    </tr>\n",
       "    <tr>\n",
       "      <th>1</th>\n",
       "      <td>-0.138714</td>\n",
       "      <td>-0.050763</td>\n",
       "    </tr>\n",
       "    <tr>\n",
       "      <th>2</th>\n",
       "      <td>-0.146193</td>\n",
       "      <td>-0.069735</td>\n",
       "    </tr>\n",
       "    <tr>\n",
       "      <th>3</th>\n",
       "      <td>-0.138714</td>\n",
       "      <td>-0.066009</td>\n",
       "    </tr>\n",
       "    <tr>\n",
       "      <th>4</th>\n",
       "      <td>2.546263</td>\n",
       "      <td>-0.013634</td>\n",
       "    </tr>\n",
       "  </tbody>\n",
       "</table>\n",
       "</div>"
      ],
      "text/plain": [
       "   orders_per_day  median_equity\n",
       "0       -0.146193      -0.065906\n",
       "1       -0.138714      -0.050763\n",
       "2       -0.146193      -0.069735\n",
       "3       -0.138714      -0.066009\n",
       "4        2.546263      -0.013634"
      ]
     },
     "execution_count": 54,
     "metadata": {},
     "output_type": "execute_result"
    }
   ],
   "source": [
    "col_names = ['orders_per_day', 'median_equity']\n",
    "features = data[col_names]\n",
    "scaler = StandardScaler().fit(features.values)\n",
    "features = scaler.transform(features.values)\n",
    "scaled_features = pd.DataFrame(features, columns = col_names)\n",
    "scaled_features.head()\n",
    "data2 = scaled_features\n",
    "data2.head()"
   ]
  },
  {
   "cell_type": "markdown",
   "id": "9f774f6a-8de7-4d62-bee1-90fb875a130b",
   "metadata": {},
   "source": [
    "#### Checking for dataset variance by each component. We will do so by using the Principal Component Analysis(PCA) test. PCA is usually done to check which of the components in a dataset cover maximum of the variance, but in this case, we are using it to check by how much do the components differ. \n",
    "#### Greater the variance, greater is the impact of the component on the model. \n",
    "\n",
    "#### In this case as we see below, the variance doesn't differ by a lot, only 0.10, hence both componenets will have a similar quantitative impact on the model, which is good news\n"
   ]
  },
  {
   "cell_type": "code",
   "execution_count": 55,
   "id": "e7ff1c47-0f5e-4c5e-92bb-d291b8f5f488",
   "metadata": {},
   "outputs": [
    {
     "data": {
      "image/png": "[encoded data removed]",
      "text/plain": [
       "<Figure size 432x288 with 1 Axes>"
      ]
     },
     "metadata": {
      "needs_background": "light"
     },
     "output_type": "display_data"
    }
   ],
   "source": [
    "pca = PCA(n_components=2)\n",
    "principalComponents = pca.fit_transform(data2)\n",
    "\n",
    "features = range(pca.n_components_)\n",
    "plt.bar(features, pca.explained_variance_ratio_, color='black')\n",
    "plt.xlabel('PCA features')\n",
    "plt.ylabel('variance %')\n",
    "plt.xticks(features)\n",
    "\n",
    "PCA_components = pd.DataFrame(principalComponents)"
   ]
  },
  {
   "cell_type": "markdown",
   "id": "eee48f68-69ca-4aee-9390-911b9427cd8f",
   "metadata": {},
   "source": [
    "#### Building the model with the above components, and a cluster size of 9"
   ]
  },
  {
   "cell_type": "code",
   "execution_count": 56,
   "id": "f20ddc80-e2b7-4d78-9a84-eb1dcd7c27e3",
   "metadata": {},
   "outputs": [
    {
     "data": {
      "image/png": "[encoded data removed]",
      "text/plain": [
       "<Figure size 432x288 with 1 Axes>"
      ]
     },
     "metadata": {
      "needs_background": "light"
     },
     "output_type": "display_data"
    }
   ],
   "source": [
    "ks = range(1, 10)\n",
    "inertias = []\n",
    "\n",
    "for k in ks:\n",
    "    model = KMeans(n_clusters=k)\n",
    "    model.fit(PCA_components.iloc[:,:2])\n",
    "    inertias.append(model.inertia_)\n",
    "\n",
    "plt.plot(ks, inertias, '-o', color='black')\n",
    "plt.xlabel('number of clusters, k')\n",
    "plt.ylabel('inertia')\n",
    "plt.xticks(ks)\n",
    "plt.show()"
   ]
  },
  {
   "cell_type": "code",
   "execution_count": 57,
   "id": "a07aee95-e1c1-4da2-b69c-1784e8238ed8",
   "metadata": {},
   "outputs": [
    {
     "name": "stdout",
     "output_type": "stream",
     "text": [
      "0.924763366229106\n"
     ]
    }
   ],
   "source": [
    "model = KMeans(n_clusters=9)\n",
    "model.fit(PCA_components.iloc[:,:2])\n",
    "\n",
    "# silhouette score\n",
    "print(silhouette_score(PCA_components.iloc[:,:2], model.labels_, metric='euclidean')) "
   ]
  },
  {
   "cell_type": "markdown",
   "id": "87f40eff-b23a-46e3-b4c1-fa091aee33c5",
   "metadata": {},
   "source": [
    "#### A silhouette coefficient, or a silhouette score is a metric used to evaluate the quality of clusters created by the algorithm. Silhouette scores range from -1 to +1. The higher the silhouette score, the better the model. This is a really good silhouette score of the model."
   ]
  },
  {
   "cell_type": "markdown",
   "id": "1ee00b0d-2e85-4d58-816e-c6f016da5e6b",
   "metadata": {},
   "source": [
    "#### Let's visualize what the cluster looks like"
   ]
  },
  {
   "cell_type": "code",
   "execution_count": 58,
   "id": "3f4ee3cc-e487-48cf-8b69-3ee938b1545c",
   "metadata": {},
   "outputs": [
    {
     "data": {
      "image/png": "[encoded data removed]",
      "text/plain": [
       "<Figure size 1512x720 with 1 Axes>"
      ]
     },
     "metadata": {
      "needs_background": "light"
     },
     "output_type": "display_data"
    }
   ],
   "source": [
    "model = KMeans(n_clusters=9)\n",
    "\n",
    "clusters = model.fit_predict(PCA_components.iloc[:,:2])\n",
    "data2[\"label\"] = clusters\n",
    " \n",
    "fig = plt.figure(figsize=(21,10))\n",
    "ax = fig.add_subplot(111, projection='3d')\n",
    "ax.scatter(data2[\"orders_per_day\"][data2.label == 0], data[\"median_equity\"][data2.label == 0], c='blue', s=60)\n",
    "\n",
    "ax.scatter(data2[\"orders_per_day\"][data2.label == 1], data[\"median_equity\"][data2.label == 1], c='red', s=60)\n",
    "ax.scatter(data2[\"orders_per_day\"][data2.label == 2], data[\"median_equity\"][data2.label == 2], c='blue', s=60)\n",
    "ax.scatter(data2[\"orders_per_day\"][data2.label == 3], data[\"median_equity\"][data2.label == 3], c='green', s=60)\n",
    "ax.scatter(data2[\"orders_per_day\"][data2.label == 4], data[\"median_equity\"][data2.label == 4], c='orange', s=60)\n",
    "ax.scatter(data2[\"orders_per_day\"][data2.label == 5], data[\"median_equity\"][data2.label == 5], c='yellow', s=60)\n",
    "\n",
    "ax.scatter(data2[\"orders_per_day\"][data2.label == 6], data[\"median_equity\"][data2.label == 6], c='brown', s=60)\n",
    "ax.scatter(data2[\"orders_per_day\"][data2.label == 7], data[\"median_equity\"][data2.label == 7], c='violet', s=60)\n",
    "ax.scatter(data2[\"orders_per_day\"][data2.label == 8], data[\"median_equity\"][data2.label == 8], c='pink', s=60)\n",
    "\n",
    "ax.view_init(30, 185)\n",
    "plt.show()"
   ]
  },
  {
   "cell_type": "markdown",
   "id": "46b28fc1-0d9d-4dcb-9861-7bb1c5ab02ea",
   "metadata": {},
   "source": [
    "#### The above graph shows us how congested the clusters are"
   ]
  },
  {
   "cell_type": "code",
   "execution_count": 17,
   "id": "dab3cb64-da15-40ec-8d3a-929ce39bff01",
   "metadata": {},
   "outputs": [],
   "source": [
    "df2 = df.drop(['account'],axis=1)"
   ]
  },
  {
   "cell_type": "code",
   "execution_count": 18,
   "id": "5da80f0c-4106-4e23-bbca-a23c0c36f870",
   "metadata": {},
   "outputs": [
    {
     "data": {
      "text/html": [
       "<div>\n",
       "<style scoped>\n",
       "    .dataframe tbody tr th:only-of-type {\n",
       "        vertical-align: middle;\n",
       "    }\n",
       "\n",
       "    .dataframe tbody tr th {\n",
       "        vertical-align: top;\n",
       "    }\n",
       "\n",
       "    .dataframe thead th {\n",
       "        text-align: right;\n",
       "    }\n",
       "</style>\n",
       "<table border=\"1\" class=\"dataframe\">\n",
       "  <thead>\n",
       "    <tr style=\"text-align: right;\">\n",
       "      <th></th>\n",
       "      <th>orders_per_day</th>\n",
       "      <th>median_equity</th>\n",
       "      <th>cluster</th>\n",
       "    </tr>\n",
       "  </thead>\n",
       "  <tbody>\n",
       "    <tr>\n",
       "      <th>1</th>\n",
       "      <td>2</td>\n",
       "      <td>1770.815578</td>\n",
       "      <td>0</td>\n",
       "    </tr>\n",
       "    <tr>\n",
       "      <th>2</th>\n",
       "      <td>3</td>\n",
       "      <td>8751.347500</td>\n",
       "      <td>0</td>\n",
       "    </tr>\n",
       "    <tr>\n",
       "      <th>3</th>\n",
       "      <td>2</td>\n",
       "      <td>5.300000</td>\n",
       "      <td>0</td>\n",
       "    </tr>\n",
       "    <tr>\n",
       "      <th>4</th>\n",
       "      <td>3</td>\n",
       "      <td>1722.957565</td>\n",
       "      <td>0</td>\n",
       "    </tr>\n",
       "    <tr>\n",
       "      <th>5</th>\n",
       "      <td>362</td>\n",
       "      <td>25867.137500</td>\n",
       "      <td>5</td>\n",
       "    </tr>\n",
       "  </tbody>\n",
       "</table>\n",
       "</div>"
      ],
      "text/plain": [
       "   orders_per_day  median_equity  cluster\n",
       "1               2    1770.815578        0\n",
       "2               3    8751.347500        0\n",
       "3               2       5.300000        0\n",
       "4               3    1722.957565        0\n",
       "5             362   25867.137500        5"
      ]
     },
     "execution_count": 18,
     "metadata": {},
     "output_type": "execute_result"
    }
   ],
   "source": [
    "pred = model.predict(PCA_components.iloc[:,:2])\n",
    "frame = pd.DataFrame(df2)\n",
    "frame['cluster'] = pred\n",
    "frame.head()"
   ]
  },
  {
   "cell_type": "code",
   "execution_count": 19,
   "id": "7019227a-1640-479a-83cd-ce1e4bf015cf",
   "metadata": {},
   "outputs": [],
   "source": [
    "df2.columns = df2.columns.str.strip()"
   ]
  },
  {
   "cell_type": "code",
   "execution_count": 20,
   "id": "1e1046f2-4d96-49b7-8e39-ea40c1e2e65f",
   "metadata": {},
   "outputs": [
    {
     "data": {
      "text/html": [
       "<div>\n",
       "<style scoped>\n",
       "    .dataframe tbody tr th:only-of-type {\n",
       "        vertical-align: middle;\n",
       "    }\n",
       "\n",
       "    .dataframe tbody tr th {\n",
       "        vertical-align: top;\n",
       "    }\n",
       "\n",
       "    .dataframe thead th {\n",
       "        text-align: right;\n",
       "    }\n",
       "</style>\n",
       "<table border=\"1\" class=\"dataframe\">\n",
       "  <thead>\n",
       "    <tr style=\"text-align: right;\">\n",
       "      <th></th>\n",
       "      <th>cluster</th>\n",
       "      <th>orders_per_day</th>\n",
       "      <th>median_equity</th>\n",
       "    </tr>\n",
       "  </thead>\n",
       "  <tbody>\n",
       "    <tr>\n",
       "      <th>0</th>\n",
       "      <td>0</td>\n",
       "      <td>6.848653</td>\n",
       "      <td>1.814947e+04</td>\n",
       "    </tr>\n",
       "    <tr>\n",
       "      <th>1</th>\n",
       "      <td>1</td>\n",
       "      <td>159.000000</td>\n",
       "      <td>2.418932e+07</td>\n",
       "    </tr>\n",
       "    <tr>\n",
       "      <th>2</th>\n",
       "      <td>2</td>\n",
       "      <td>910.866667</td>\n",
       "      <td>8.621415e+04</td>\n",
       "    </tr>\n",
       "    <tr>\n",
       "      <th>3</th>\n",
       "      <td>3</td>\n",
       "      <td>4661.000000</td>\n",
       "      <td>6.759789e+05</td>\n",
       "    </tr>\n",
       "    <tr>\n",
       "      <th>4</th>\n",
       "      <td>4</td>\n",
       "      <td>3.000000</td>\n",
       "      <td>1.038647e+07</td>\n",
       "    </tr>\n",
       "    <tr>\n",
       "      <th>5</th>\n",
       "      <td>5</td>\n",
       "      <td>271.351648</td>\n",
       "      <td>5.772459e+04</td>\n",
       "    </tr>\n",
       "    <tr>\n",
       "      <th>6</th>\n",
       "      <td>6</td>\n",
       "      <td>1999.000000</td>\n",
       "      <td>2.526297e+04</td>\n",
       "    </tr>\n",
       "    <tr>\n",
       "      <th>7</th>\n",
       "      <td>7</td>\n",
       "      <td>2927.000000</td>\n",
       "      <td>3.776977e+06</td>\n",
       "    </tr>\n",
       "    <tr>\n",
       "      <th>8</th>\n",
       "      <td>8</td>\n",
       "      <td>563.000000</td>\n",
       "      <td>5.847455e+06</td>\n",
       "    </tr>\n",
       "  </tbody>\n",
       "</table>\n",
       "</div>"
      ],
      "text/plain": [
       "   cluster  orders_per_day  median_equity\n",
       "0        0        6.848653   1.814947e+04\n",
       "1        1      159.000000   2.418932e+07\n",
       "2        2      910.866667   8.621415e+04\n",
       "3        3     4661.000000   6.759789e+05\n",
       "4        4        3.000000   1.038647e+07\n",
       "5        5      271.351648   5.772459e+04\n",
       "6        6     1999.000000   2.526297e+04\n",
       "7        7     2927.000000   3.776977e+06\n",
       "8        8      563.000000   5.847455e+06"
      ]
     },
     "execution_count": 20,
     "metadata": {},
     "output_type": "execute_result"
    }
   ],
   "source": [
    "avg_df = df2.groupby(['cluster'], as_index=False).mean()\n",
    "avg_df"
   ]
  },
  {
   "cell_type": "code",
   "execution_count": 21,
   "id": "52ef3317-4655-4261-8170-8d0146c5a909",
   "metadata": {},
   "outputs": [
    {
     "data": {
      "text/plain": [
       "<AxesSubplot:xlabel='cluster', ylabel='orders_per_day'>"
      ]
     },
     "execution_count": 21,
     "metadata": {},
     "output_type": "execute_result"
    },
    {
     "data": {
      "image/png": "[encoded data removed]",
      "text/plain": [
       "<Figure size 432x288 with 1 Axes>"
      ]
     },
     "metadata": {
      "needs_background": "light"
     },
     "output_type": "display_data"
    }
   ],
   "source": [
    "sns.barplot(x='cluster',y='orders_per_day',data=avg_df)"
   ]
  },
  {
   "cell_type": "code",
   "execution_count": 22,
   "id": "7ff44b30-e18b-4196-9ec1-0dacbcc22c3c",
   "metadata": {},
   "outputs": [
    {
     "data": {
      "text/plain": [
       "<AxesSubplot:xlabel='cluster', ylabel='median_equity'>"
      ]
     },
     "execution_count": 22,
     "metadata": {},
     "output_type": "execute_result"
    },
    {
     "data": {
      "image/png": "[encoded data removed]",
      "text/plain": [
       "<Figure size 432x288 with 1 Axes>"
      ]
     },
     "metadata": {
      "needs_background": "light"
     },
     "output_type": "display_data"
    }
   ],
   "source": [
    "sns.barplot(x='cluster',y='median_equity',data=avg_df)"
   ]
  },
  {
   "cell_type": "code",
   "execution_count": 23,
   "id": "3494426f-f7b3-4f15-a6cc-72a42203de01",
   "metadata": {},
   "outputs": [],
   "source": [
    "df_sort2 = avg_df.sort_values(['orders_per_day','median_equity'],ascending=[False, False])"
   ]
  },
  {
   "cell_type": "markdown",
   "id": "fd5176ad-17db-4ec8-a91f-264f4358a020",
   "metadata": {},
   "source": [
    "Sorting the dataframe according to Trading Volume in descending order\\\n",
    "We see that clusters are in groups of three's.\\\n",
    "6,4,7 HIGH FREQ \\\n",
    "3,8,5 MED FREQ \\\n",
    "1,0,2 LOW FREQ \\\n",
    "This will allow us to also understand within these groups, which clusters belong to HIGH, MED, LOW AUM"
   ]
  },
  {
   "cell_type": "code",
   "execution_count": 24,
   "id": "1a826570-cd11-47b3-919c-d5951fb2fc7e",
   "metadata": {},
   "outputs": [
    {
     "data": {
      "text/html": [
       "<div>\n",
       "<style scoped>\n",
       "    .dataframe tbody tr th:only-of-type {\n",
       "        vertical-align: middle;\n",
       "    }\n",
       "\n",
       "    .dataframe tbody tr th {\n",
       "        vertical-align: top;\n",
       "    }\n",
       "\n",
       "    .dataframe thead th {\n",
       "        text-align: right;\n",
       "    }\n",
       "</style>\n",
       "<table border=\"1\" class=\"dataframe\">\n",
       "  <thead>\n",
       "    <tr style=\"text-align: right;\">\n",
       "      <th></th>\n",
       "      <th>cluster</th>\n",
       "      <th>orders_per_day</th>\n",
       "      <th>median_equity</th>\n",
       "    </tr>\n",
       "  </thead>\n",
       "  <tbody>\n",
       "    <tr>\n",
       "      <th>3</th>\n",
       "      <td>3</td>\n",
       "      <td>4661.000000</td>\n",
       "      <td>6.759789e+05</td>\n",
       "    </tr>\n",
       "    <tr>\n",
       "      <th>7</th>\n",
       "      <td>7</td>\n",
       "      <td>2927.000000</td>\n",
       "      <td>3.776977e+06</td>\n",
       "    </tr>\n",
       "    <tr>\n",
       "      <th>6</th>\n",
       "      <td>6</td>\n",
       "      <td>1999.000000</td>\n",
       "      <td>2.526297e+04</td>\n",
       "    </tr>\n",
       "    <tr>\n",
       "      <th>2</th>\n",
       "      <td>2</td>\n",
       "      <td>910.866667</td>\n",
       "      <td>8.621415e+04</td>\n",
       "    </tr>\n",
       "    <tr>\n",
       "      <th>8</th>\n",
       "      <td>8</td>\n",
       "      <td>563.000000</td>\n",
       "      <td>5.847455e+06</td>\n",
       "    </tr>\n",
       "    <tr>\n",
       "      <th>5</th>\n",
       "      <td>5</td>\n",
       "      <td>271.351648</td>\n",
       "      <td>5.772459e+04</td>\n",
       "    </tr>\n",
       "    <tr>\n",
       "      <th>1</th>\n",
       "      <td>1</td>\n",
       "      <td>159.000000</td>\n",
       "      <td>2.418932e+07</td>\n",
       "    </tr>\n",
       "    <tr>\n",
       "      <th>0</th>\n",
       "      <td>0</td>\n",
       "      <td>6.848653</td>\n",
       "      <td>1.814947e+04</td>\n",
       "    </tr>\n",
       "    <tr>\n",
       "      <th>4</th>\n",
       "      <td>4</td>\n",
       "      <td>3.000000</td>\n",
       "      <td>1.038647e+07</td>\n",
       "    </tr>\n",
       "  </tbody>\n",
       "</table>\n",
       "</div>"
      ],
      "text/plain": [
       "   cluster  orders_per_day  median_equity\n",
       "3        3     4661.000000   6.759789e+05\n",
       "7        7     2927.000000   3.776977e+06\n",
       "6        6     1999.000000   2.526297e+04\n",
       "2        2      910.866667   8.621415e+04\n",
       "8        8      563.000000   5.847455e+06\n",
       "5        5      271.351648   5.772459e+04\n",
       "1        1      159.000000   2.418932e+07\n",
       "0        0        6.848653   1.814947e+04\n",
       "4        4        3.000000   1.038647e+07"
      ]
     },
     "execution_count": 24,
     "metadata": {},
     "output_type": "execute_result"
    }
   ],
   "source": [
    "df_sort2"
   ]
  },
  {
   "cell_type": "markdown",
   "id": "8076059b-8335-44c5-8a6a-52492c7d4ff7",
   "metadata": {
    "tags": []
   },
   "source": [
    "#### Looking at the above data we can conclude the following clusters: \n",
    "0: LOW AUM, LOW FREQ \\\n",
    "1: HIGH AUM, MED FREQ \\\n",
    "2: LOW AUM, MED FREQ \\\n",
    "3: HIGH AUM, HIGH FREQ \\\n",
    "4: HIGH AUM, LOW FREQ \\\n",
    "5: MED AUM, LOW FREQ\\\n",
    "6: MED AUM, HIGH FREQ \\\n",
    "7: LOW AUM , HIGH FREQ \\\n",
    "8: MED AUM, MED FREQ \\"
   ]
  },
  {
   "cell_type": "code",
   "execution_count": 25,
   "id": "06a82436-447b-47cf-a099-63176d6e33f9",
   "metadata": {},
   "outputs": [
    {
     "data": {
      "text/html": [
       "<div>\n",
       "<style scoped>\n",
       "    .dataframe tbody tr th:only-of-type {\n",
       "        vertical-align: middle;\n",
       "    }\n",
       "\n",
       "    .dataframe tbody tr th {\n",
       "        vertical-align: top;\n",
       "    }\n",
       "\n",
       "    .dataframe thead th {\n",
       "        text-align: right;\n",
       "    }\n",
       "</style>\n",
       "<table border=\"1\" class=\"dataframe\">\n",
       "  <thead>\n",
       "    <tr style=\"text-align: right;\">\n",
       "      <th></th>\n",
       "      <th>account</th>\n",
       "      <th>orders_per_day</th>\n",
       "      <th>median_equity</th>\n",
       "      <th>cluster</th>\n",
       "    </tr>\n",
       "  </thead>\n",
       "  <tbody>\n",
       "    <tr>\n",
       "      <th>1</th>\n",
       "      <td>578054367</td>\n",
       "      <td>2</td>\n",
       "      <td>1770.815578</td>\n",
       "      <td>0</td>\n",
       "    </tr>\n",
       "    <tr>\n",
       "      <th>2</th>\n",
       "      <td>578073646</td>\n",
       "      <td>3</td>\n",
       "      <td>8751.347500</td>\n",
       "      <td>0</td>\n",
       "    </tr>\n",
       "    <tr>\n",
       "      <th>3</th>\n",
       "      <td>578171219</td>\n",
       "      <td>2</td>\n",
       "      <td>5.300000</td>\n",
       "      <td>0</td>\n",
       "    </tr>\n",
       "    <tr>\n",
       "      <th>4</th>\n",
       "      <td>578197586</td>\n",
       "      <td>3</td>\n",
       "      <td>1722.957565</td>\n",
       "      <td>0</td>\n",
       "    </tr>\n",
       "    <tr>\n",
       "      <th>5</th>\n",
       "      <td>578222371</td>\n",
       "      <td>362</td>\n",
       "      <td>25867.137500</td>\n",
       "      <td>5</td>\n",
       "    </tr>\n",
       "  </tbody>\n",
       "</table>\n",
       "</div>"
      ],
      "text/plain": [
       "     account  orders_per_day  median_equity  cluster\n",
       "1  578054367               2    1770.815578        0\n",
       "2  578073646               3    8751.347500        0\n",
       "3  578171219               2       5.300000        0\n",
       "4  578197586               3    1722.957565        0\n",
       "5  578222371             362   25867.137500        5"
      ]
     },
     "execution_count": 25,
     "metadata": {},
     "output_type": "execute_result"
    }
   ],
   "source": [
    "frame2 = pd.DataFrame(df)\n",
    "frame2['cluster'] = pred\n",
    "frame2.head()"
   ]
  },
  {
   "cell_type": "markdown",
   "id": "61d99b1b-93bb-4adf-b8a0-2578c797492a",
   "metadata": {
    "slideshow": {
     "slide_type": "notes"
    },
    "tags": []
   },
   "source": [
    "#### Grouping by distinct cluster gives us a count of the following:"
   ]
  },
  {
   "cell_type": "code",
   "execution_count": 51,
   "id": "881d5502-1274-4e6a-9952-adc8b06abecb",
   "metadata": {},
   "outputs": [
    {
     "data": {
      "text/plain": [
       "cluster\n",
       "0    3416\n",
       "1       1\n",
       "2      15\n",
       "3       1\n",
       "4       1\n",
       "5      91\n",
       "6       3\n",
       "7       1\n",
       "8       1\n",
       "dtype: int64"
      ]
     },
     "execution_count": 51,
     "metadata": {},
     "output_type": "execute_result"
    }
   ],
   "source": [
    "frame2.groupby(['cluster']).size()"
   ]
  },
  {
   "cell_type": "code",
   "execution_count": null,
   "id": "a4c726b2-b439-49f5-8770-25dc8b7e3518",
   "metadata": {},
   "outputs": [],
   "source": []
  }
 ],
 "metadata": {
  "kernelspec": {
   "display_name": "Python 3.8.9 64-bit",
   "language": "python",
   "name": "python3"
  },
  "language_info": {
   "codemirror_mode": {
    "name": "ipython",
    "version": 3
   },
   "file_extension": ".py",
   "mimetype": "text/x-python",
   "name": "python",
   "nbconvert_exporter": "python",
   "pygments_lexer": "ipython3",
   "version": "3.8.9"
  },
  "vscode": {
   "interpreter": {
    "hash": "31f2aee4e71d21fbe5cf8b01ff0e069b9275f58929596ceb00d14d90e3e16cd6"
   }
  }
 },
 "nbformat": 4,
 "nbformat_minor": 5
}
