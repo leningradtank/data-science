{
 "cells": [
  {
   "cell_type": "code",
   "execution_count": 3,
   "id": "2d457916-13bb-4869-9179-3becabc8004f",
   "metadata": {},
   "outputs": [
    {
     "name": "stdout",
     "output_type": "stream",
     "text": [
      "Requirement already satisfied: pandasql in /opt/conda/lib/python3.10/site-packages (0.7.3)\n",
      "Requirement already satisfied: numpy in /opt/conda/lib/python3.10/site-packages (from pandasql) (1.21.6)\n",
      "Requirement already satisfied: sqlalchemy in /opt/conda/lib/python3.10/site-packages (from pandasql) (1.3.24)\n",
      "Requirement already satisfied: pandas in /opt/conda/lib/python3.10/site-packages (from pandasql) (1.4.2)\n",
      "Requirement already satisfied: python-dateutil>=2.8.1 in /opt/conda/lib/python3.10/site-packages (from pandas->pandasql) (2.8.2)\n",
      "Requirement already satisfied: pytz>=2020.1 in /opt/conda/lib/python3.10/site-packages (from pandas->pandasql) (2022.1)\n",
      "Requirement already satisfied: six>=1.5 in /opt/conda/lib/python3.10/site-packages (from python-dateutil>=2.8.1->pandas->pandasql) (1.16.0)\n"
     ]
    }
   ],
   "source": [
    "!pip install pandasql"
   ]
  },
  {
   "cell_type": "code",
   "execution_count": 2,
   "id": "1ef73435-7bc9-4466-840c-bbda57e0b9f7",
   "metadata": {},
   "outputs": [],
   "source": [
    "import sqlalchemy as sql\n",
    "import psycopg2 \n",
    "import pandas.io.sql as sqlio\n",
    "import pandas as pd\n",
    "from functools import reduce\n",
    "import sqlalchemy\n",
    "import seaborn as sns\n",
    "import matplotlib.pyplot as plt\n",
    "from pandasql import sqldf"
   ]
  },
  {
   "cell_type": "code",
   "execution_count": 28,
   "id": "72e40dd4-5d59-4897-83c4-81b56e3ab419",
   "metadata": {},
   "outputs": [],
   "source": [
    "engine = sqlalchemy.create_engine('postgres_URI')"
   ]
  },
  {
   "cell_type": "code",
   "execution_count": 29,
   "id": "a6ce94cf-f4ef-4737-883b-8c87a76b2a30",
   "metadata": {},
   "outputs": [],
   "source": [
    "query = \"\"\"\n",
    "with equity_avg as (\n",
    "select account_number , percentile_cont(0.5) within group (order by avg_equity) as median_equity\n",
    "from (\n",
    "select account_number, sum(max_equity_month)/count(month_of) as avg_equity\n",
    "from (\n",
    "select a.account_number,date_trunc('month', asof) as month_of, max(db.equity) as max_equity_month\n",
    "from daily_balances db \n",
    "left join accounts A on a.id = db.account_id\n",
    "where a.correspondent in ('LPCA', '', 'NULL')\n",
    "and asof between '2022-05-01' and '2022-06-01'\n",
    "and db.equity > 0\n",
    "and a.account_number is not NULL\n",
    "group by 1, 2\n",
    ")query1\n",
    "group by 1\n",
    ")query2\n",
    "group by 1\n",
    "),\n",
    "\n",
    "mean_orders as (\n",
    "select orders.account,  count(orders.id)/count(distinct date_trunc('day', filled_at)) as orders_per_day\n",
    "from orders \n",
    "left join accounts A on a.account_number = orders.account \n",
    "left join assets ast ON ast.id::uuid=orders.asset_id::uuid\n",
    "where filled_at::date between '2022-05-01' and '2022-06-01'\n",
    "and filled_at is not NULL\n",
    "and ast.class = 'us_equity'\n",
    "and orders.account not in ('NULL', '', 'NOHODL')\n",
    "and correspondent in ('LPCA', '', 'NULL')\n",
    "group by 1\n",
    "\n",
    "),\n",
    "\n",
    "order_list as (\n",
    "\n",
    "select all_equities_table_columns\n",
    "from equities_table\n",
    "),\n",
    "\n",
    "\n",
    "cte1 as (\n",
    "select *\n",
    "from order_list\n",
    "where conditions = x\n",
    "),\n",
    "\n",
    "\n",
    "\n",
    "final_data as (\n",
    "select\n",
    "account_number,\n",
    "sum(qty*rebate_amount) as tot_rebates\n",
    "from cte1\n",
    "\n",
    "group by 1),\n",
    "\n",
    "final_segmentation as (\n",
    "\n",
    "select mo.account, fd.tot_rebates,\n",
    "case when orders_per_day < 5 and median_equity < 25000 then 'LOW AUM LOW FREQ'  \n",
    "     when (orders_per_day between 5 and 100) and median_equity < 25000 then 'LOW AUM MED FREQ'\n",
    "     when orders_per_day > 100 and median_equity < 25000 then 'LOW AUM HIGH FREQ'\n",
    "     when orders_per_day < 5 and (median_equity between 25000 and 250000) then 'MED AUM LOW FREQ'\n",
    "     when (orders_per_day between 5 and 100) and (median_equity between 25000 and 250000) then 'MED AUM MED FREQ'\n",
    "     when orders_per_day > 100 and (median_equity between 25000 and 250000) then 'MED AUM HIGH FREQ'\n",
    "     when orders_per_day < 5 and median_equity >250000 then 'HIGH AUM LOW FREQ'\n",
    "     when (orders_per_day between 5 and 100) and median_equity >250000 then 'HIGH AUM MED FREQ'\n",
    "     when orders_per_day > 100 and median_equity >250000 then 'HIGH AUM HIGH FREQ'\n",
    "     else 'other' end as data_group\n",
    "     \n",
    "from mean_orders mo\n",
    "left join equity_avg ea on ea.account_number = mo.account \n",
    "left join final_data fd on fd.account_number = mo.account)\n",
    "\n",
    "\n",
    "\n",
    "select count(distinct account) as total_accounts ,  sum(tot_rebates) as total_revenue, data_group\n",
    "from final_segmentation\n",
    "group by 3\n",
    "\n",
    "\n",
    "\"\"\""
   ]
  },
  {
   "cell_type": "code",
   "execution_count": 30,
   "id": "aecb9aa0-223b-42bb-bed0-bddc0a513864",
   "metadata": {},
   "outputs": [],
   "source": [
    "df = pd.read_sql_query(query, engine)"
   ]
  },
  {
   "cell_type": "code",
   "execution_count": 6,
   "id": "9e31452e-64a9-4a22-b5eb-cceae50dc3b2",
   "metadata": {},
   "outputs": [],
   "source": [
    "df['revenue_account'] = df['total_revenue']/df['total_accounts']"
   ]
  },
  {
   "cell_type": "code",
   "execution_count": 7,
   "id": "bd1666ff-d1d2-496f-87df-9a5660247812",
   "metadata": {},
   "outputs": [],
   "source": [
    "df = df.sort_values(by='total_revenue', ascending = False)"
   ]
  },
  {
   "cell_type": "code",
   "execution_count": 8,
   "id": "2deb7934-a9ce-476f-9c5a-d18ceec48c9a",
   "metadata": {},
   "outputs": [],
   "source": [
    "total_df = df[['data_group', 'total_revenue', 'revenue_account']]"
   ]
  },
  {
   "cell_type": "code",
   "execution_count": 9,
   "id": "36807c0f-faf2-40c5-8fc3-b5f4b52ed15f",
   "metadata": {},
   "outputs": [],
   "source": [
    "total_df = total_df.rename(columns={\"total_revenue\":\"may_revenue\", \"revenue_account\":\"may_revenue_account\"})"
   ]
  },
  {
   "cell_type": "code",
   "execution_count": 12,
   "id": "69d9eee6-c954-4622-af23-bf664f9b1a9e",
   "metadata": {},
   "outputs": [],
   "source": [
    "df2 = pd.read_sql_query(query2, engine)"
   ]
  },
  {
   "cell_type": "code",
   "execution_count": 13,
   "id": "f71935a3-120f-475c-a37d-3f43315fb54b",
   "metadata": {},
   "outputs": [],
   "source": [
    "df2['revenue_account'] = df2['total_revenue']/df2['total_accounts']"
   ]
  },
  {
   "cell_type": "code",
   "execution_count": 14,
   "id": "3691a830-31b3-4929-85f1-9a0bcb232345",
   "metadata": {},
   "outputs": [],
   "source": [
    "total_df = total_df.merge(df2[['data_group','total_revenue', 'revenue_account']], on='data_group', how='left')\n",
    "total_df = total_df.rename(columns={\"total_revenue\":\"april_revenue\", \"revenue_account\":\"april_revenue_account\"})"
   ]
  },
  {
   "cell_type": "code",
   "execution_count": 16,
   "id": "ff62ccc8-7608-48e4-98d2-056142157734",
   "metadata": {},
   "outputs": [],
   "source": [
    "df3 = pd.read_sql_query(query3, engine)"
   ]
  },
  {
   "cell_type": "code",
   "execution_count": 17,
   "id": "efad573b-6f05-4602-ab38-489982a546f2",
   "metadata": {},
   "outputs": [],
   "source": [
    "df3['revenue_account'] = df3['total_revenue']/df3['total_accounts']"
   ]
  },
  {
   "cell_type": "code",
   "execution_count": 18,
   "id": "a10445b5-c7cc-4a32-bdea-396eccf0583b",
   "metadata": {},
   "outputs": [],
   "source": [
    "total_df = total_df.merge(df3[['data_group','total_revenue', 'revenue_account']], on='data_group', how='left')\n",
    "total_df = total_df.rename(columns={\"total_revenue\":\"march_revenue\", \"revenue_account\":\"march_revenue_account\"})"
   ]
  },
  {
   "cell_type": "code",
   "execution_count": 20,
   "id": "4cf1fd7c-b3f0-4a03-8c82-a4af3df603e6",
   "metadata": {},
   "outputs": [],
   "source": [
    "df4 = pd.read_sql_query(query4, engine)"
   ]
  },
  {
   "cell_type": "code",
   "execution_count": 21,
   "id": "ea11795b-3411-4765-a537-065dba0a1859",
   "metadata": {},
   "outputs": [],
   "source": [
    "df4['revenue_account'] = df4['total_revenue']/df4['total_accounts']"
   ]
  },
  {
   "cell_type": "code",
   "execution_count": 22,
   "id": "1629e882-af24-4269-b47a-26f88f38ca72",
   "metadata": {},
   "outputs": [],
   "source": [
    "total_df = total_df.merge(df4[['data_group','total_revenue', 'revenue_account']], on='data_group', how='left')\n",
    "total_df = total_df.rename(columns={\"total_revenue\":\"february_revenue\", \"revenue_account\":\"february_revenue_account\"})"
   ]
  },
  {
   "cell_type": "code",
   "execution_count": 24,
   "id": "86e9d8c8-a902-475b-a7d0-8916bb6d7e65",
   "metadata": {},
   "outputs": [
    {
     "data": {
      "text/plain": [
       "(array([0, 1, 2, 3, 4, 5, 6, 7, 8, 9]),\n",
       " [Text(0, 0, 'MED AUM HIGH FREQ'),\n",
       "  Text(1, 0, 'MED AUM MED FREQ'),\n",
       "  Text(2, 0, 'HIGH AUM MED FREQ'),\n",
       "  Text(3, 0, 'HIGH AUM HIGH FREQ'),\n",
       "  Text(4, 0, 'HIGH AUM LOW FREQ'),\n",
       "  Text(5, 0, 'MED AUM LOW FREQ'),\n",
       "  Text(6, 0, 'LOW AUM MED FREQ'),\n",
       "  Text(7, 0, 'LOW AUM LOW FREQ'),\n",
       "  Text(8, 0, 'LOW AUM HIGH FREQ'),\n",
       "  Text(9, 0, 'other')])"
      ]
     },
     "execution_count": 24,
     "metadata": {},
     "output_type": "execute_result"
    },
    {
     "data": {
      "image/png": "[encoded data removed]",
      "text/plain": [
       "<Figure size 1080x504 with 1 Axes>"
      ]
     },
     "metadata": {
      "needs_background": "light"
     },
     "output_type": "display_data"
    }
   ],
   "source": [
    "total_df.plot(x='data_group', y = ['february_revenue','march_revenue', 'april_revenue', 'may_revenue'],\n",
    "        kind='bar',\n",
    "        stacked=False,\n",
    "         figsize=(15,7) )\n",
    "plt.xticks(rotation = 45)"
   ]
  },
  {
   "cell_type": "code",
   "execution_count": 25,
   "id": "7e44bf30-b3a7-4b6a-accf-52e2c5d8d9bd",
   "metadata": {},
   "outputs": [
    {
     "data": {
      "text/plain": [
       "(array([0, 1, 2, 3, 4, 5, 6, 7, 8, 9]),\n",
       " [Text(0, 0, 'MED AUM HIGH FREQ'),\n",
       "  Text(1, 0, 'MED AUM MED FREQ'),\n",
       "  Text(2, 0, 'HIGH AUM MED FREQ'),\n",
       "  Text(3, 0, 'HIGH AUM HIGH FREQ'),\n",
       "  Text(4, 0, 'HIGH AUM LOW FREQ'),\n",
       "  Text(5, 0, 'MED AUM LOW FREQ'),\n",
       "  Text(6, 0, 'LOW AUM MED FREQ'),\n",
       "  Text(7, 0, 'LOW AUM LOW FREQ'),\n",
       "  Text(8, 0, 'LOW AUM HIGH FREQ'),\n",
       "  Text(9, 0, 'other')])"
      ]
     },
     "execution_count": 25,
     "metadata": {},
     "output_type": "execute_result"
    },
    {
     "data": {
      "image/png": "[encoded data removed]",
      "text/plain": [
       "<Figure size 1080x504 with 1 Axes>"
      ]
     },
     "metadata": {
      "needs_background": "light"
     },
     "output_type": "display_data"
    }
   ],
   "source": [
    "total_df.plot(x='data_group', y = ['february_revenue_account','march_revenue_account', 'april_revenue_account', 'may_revenue_account'],\n",
    "        kind='bar',\n",
    "        stacked=False,\n",
    "         figsize=(15,7) )\n",
    "plt.xticks(rotation = 45)"
   ]
  },
  {
   "cell_type": "code",
   "execution_count": 34,
   "id": "71580f38-de69-43ef-8204-2a4bf5da159a",
   "metadata": {},
   "outputs": [
    {
     "data": {
      "text/html": [
       "<div>\n",
       "<style scoped>\n",
       "    .dataframe tbody tr th:only-of-type {\n",
       "        vertical-align: middle;\n",
       "    }\n",
       "\n",
       "    .dataframe tbody tr th {\n",
       "        vertical-align: top;\n",
       "    }\n",
       "\n",
       "    .dataframe thead th {\n",
       "        text-align: right;\n",
       "    }\n",
       "</style>\n",
       "<table border=\"1\" class=\"dataframe\">\n",
       "  <thead>\n",
       "    <tr style=\"text-align: right;\">\n",
       "      <th></th>\n",
       "      <th>data_group</th>\n",
       "      <th>may_revenue</th>\n",
       "      <th>may_revenue_account</th>\n",
       "      <th>april_revenue</th>\n",
       "      <th>april_revenue_account</th>\n",
       "      <th>march_revenue</th>\n",
       "      <th>march_revenue_account</th>\n",
       "      <th>february_revenue</th>\n",
       "      <th>february_revenue_account</th>\n",
       "    </tr>\n",
       "  </thead>\n",
       "  <tbody>\n",
       "    <tr>\n",
       "      <th>0</th>\n",
       "      <td>MED AUM HIGH FREQ</td>\n",
       "      <td>42218.700715</td>\n",
       "      <td>692.109848</td>\n",
       "      <td>77484.375750</td>\n",
       "      <td>1047.086159</td>\n",
       "      <td>100613.864390</td>\n",
       "      <td>1524.452491</td>\n",
       "      <td>63837.469140</td>\n",
       "      <td>829.058041</td>\n",
       "    </tr>\n",
       "    <tr>\n",
       "      <th>1</th>\n",
       "      <td>MED AUM MED FREQ</td>\n",
       "      <td>37067.047070</td>\n",
       "      <td>158.406184</td>\n",
       "      <td>56033.883390</td>\n",
       "      <td>220.605840</td>\n",
       "      <td>75624.983985</td>\n",
       "      <td>283.239640</td>\n",
       "      <td>58671.205050</td>\n",
       "      <td>260.760911</td>\n",
       "    </tr>\n",
       "    <tr>\n",
       "      <th>2</th>\n",
       "      <td>HIGH AUM MED FREQ</td>\n",
       "      <td>28036.639200</td>\n",
       "      <td>1869.109280</td>\n",
       "      <td>24787.076630</td>\n",
       "      <td>2065.589719</td>\n",
       "      <td>2402.079200</td>\n",
       "      <td>218.370836</td>\n",
       "      <td>9319.641175</td>\n",
       "      <td>716.895475</td>\n",
       "    </tr>\n",
       "    <tr>\n",
       "      <th>3</th>\n",
       "      <td>HIGH AUM HIGH FREQ</td>\n",
       "      <td>8128.134550</td>\n",
       "      <td>1161.162079</td>\n",
       "      <td>5193.236045</td>\n",
       "      <td>649.154506</td>\n",
       "      <td>2030.423170</td>\n",
       "      <td>253.802896</td>\n",
       "      <td>1341.110980</td>\n",
       "      <td>191.587283</td>\n",
       "    </tr>\n",
       "    <tr>\n",
       "      <th>4</th>\n",
       "      <td>HIGH AUM LOW FREQ</td>\n",
       "      <td>4865.376000</td>\n",
       "      <td>374.259692</td>\n",
       "      <td>509.144000</td>\n",
       "      <td>46.285818</td>\n",
       "      <td>2721.238000</td>\n",
       "      <td>209.326000</td>\n",
       "      <td>580.858400</td>\n",
       "      <td>52.805309</td>\n",
       "    </tr>\n",
       "  </tbody>\n",
       "</table>\n",
       "</div>"
      ],
      "text/plain": [
       "           data_group   may_revenue  may_revenue_account  april_revenue  \\\n",
       "0   MED AUM HIGH FREQ  42218.700715           692.109848   77484.375750   \n",
       "1    MED AUM MED FREQ  37067.047070           158.406184   56033.883390   \n",
       "2   HIGH AUM MED FREQ  28036.639200          1869.109280   24787.076630   \n",
       "3  HIGH AUM HIGH FREQ   8128.134550          1161.162079    5193.236045   \n",
       "4   HIGH AUM LOW FREQ   4865.376000           374.259692     509.144000   \n",
       "\n",
       "   april_revenue_account  march_revenue  march_revenue_account  \\\n",
       "0            1047.086159  100613.864390            1524.452491   \n",
       "1             220.605840   75624.983985             283.239640   \n",
       "2            2065.589719    2402.079200             218.370836   \n",
       "3             649.154506    2030.423170             253.802896   \n",
       "4              46.285818    2721.238000             209.326000   \n",
       "\n",
       "   february_revenue  february_revenue_account  \n",
       "0      63837.469140                829.058041  \n",
       "1      58671.205050                260.760911  \n",
       "2       9319.641175                716.895475  \n",
       "3       1341.110980                191.587283  \n",
       "4        580.858400                 52.805309  "
      ]
     },
     "execution_count": 34,
     "metadata": {},
     "output_type": "execute_result"
    }
   ],
   "source": [
    "total_df.head()"
   ]
  },
  {
   "cell_type": "code",
   "execution_count": 95,
   "id": "e154d4a6-ce53-4ee7-b175-6aace40243d2",
   "metadata": {},
   "outputs": [],
   "source": [
    "df_1 = pd.read_csv('med_aum_high_freq.csv')"
   ]
  },
  {
   "cell_type": "code",
   "execution_count": 96,
   "id": "00b29ba3-c15b-4805-bba8-318b972839ef",
   "metadata": {},
   "outputs": [],
   "source": [
    "df_1['ds'] = pd.to_datetime(df_1['ds'])"
   ]
  },
  {
   "cell_type": "code",
   "execution_count": 97,
   "id": "2a422b14-15c1-4e9f-ae94-1bccdf1f043b",
   "metadata": {},
   "outputs": [],
   "source": [
    "from statsmodels.tsa.statespace.sarimax import SARIMAX"
   ]
  },
  {
   "cell_type": "code",
   "execution_count": 84,
   "id": "ac4a0182-befb-4f63-ad32-bc66d34c89d0",
   "metadata": {},
   "outputs": [],
   "source": [
    "y = df_1['y']"
   ]
  },
  {
   "cell_type": "code",
   "execution_count": 85,
   "id": "5c61b42f-1f36-4de8-854d-300d966b62b5",
   "metadata": {},
   "outputs": [],
   "source": [
    "ARMAmodel = SARIMAX(y, order = (1, 0, 1))"
   ]
  },
  {
   "cell_type": "code",
   "execution_count": 86,
   "id": "e79f1c61-f7b9-44e8-9ff3-f5faa35a1e0a",
   "metadata": {},
   "outputs": [],
   "source": [
    "ARMAmodel = ARMAmodel.fit()"
   ]
  },
  {
   "cell_type": "code",
   "execution_count": 92,
   "id": "7616e790-ada7-4ef8-a105-08ccb68036d7",
   "metadata": {},
   "outputs": [],
   "source": [
    "y_pred = ARMAmodel.get_forecast(2)\n",
    "y_pred_df = y_pred.conf_int(alpha = 0.05) "
   ]
  },
  {
   "cell_type": "code",
   "execution_count": 88,
   "id": "c1c63df8-c9a2-4334-bbc5-44aafaaa6f66",
   "metadata": {},
   "outputs": [],
   "source": [
    "y_pred_df[\"Predictions\"] = ARMAmodel.predict(start = y_pred_df.index[0], end = y_pred_df.index[-1])"
   ]
  },
  {
   "cell_type": "code",
   "execution_count": 93,
   "id": "d77f5388-3bba-49b4-9c21-806a58466b4b",
   "metadata": {},
   "outputs": [
    {
     "data": {
      "text/plain": [
       "4    30341.243619\n",
       "5    21986.628945\n",
       "Name: Predictions, dtype: float64"
      ]
     },
     "execution_count": 93,
     "metadata": {},
     "output_type": "execute_result"
    }
   ],
   "source": [
    "y_pred_out = y_pred_df[\"Predictions\"] "
   ]
  },
  {
   "cell_type": "code",
   "execution_count": 91,
   "id": "54a9cbc2-9d30-4fb2-ad8f-3331fea90362",
   "metadata": {},
   "outputs": [
    {
     "data": {
      "text/plain": [
       "<matplotlib.legend.Legend at 0x7f4a9029cb20>"
      ]
     },
     "execution_count": 91,
     "metadata": {},
     "output_type": "execute_result"
    },
    {
     "data": {
      "image/png": "[encoded data removed]",
      "text/plain": [
       "<Figure size 432x288 with 1 Axes>"
      ]
     },
     "metadata": {
      "needs_background": "light"
     },
     "output_type": "display_data"
    }
   ],
   "source": [
    "plt.plot(y_pred_out, color='green', label = 'Predictions')\n",
    "plt.legend()"
   ]
  },
  {
   "cell_type": "code",
   "execution_count": 99,
   "id": "a6c9784f-0736-4b73-9770-c69ec1d35107",
   "metadata": {},
   "outputs": [],
   "source": [
    "y = df_1['y2']"
   ]
  },
  {
   "cell_type": "code",
   "execution_count": 100,
   "id": "0cd8a0fd-2f1d-4435-8488-f2e26de705e7",
   "metadata": {},
   "outputs": [],
   "source": [
    "ARMAmodel = SARIMAX(y, order = (1, 0, 1))\n",
    "ARMAmodel = ARMAmodel.fit()\n",
    "\n",
    "y_pred = ARMAmodel.get_forecast(2)\n",
    "y_pred_df = y_pred.conf_int(alpha = 0.05) \n",
    "\n",
    "y_pred_df[\"Predictions\"] = ARMAmodel.predict(start = y_pred_df.index[0], end = y_pred_df.index[-1])\n",
    "\n",
    "y_pred_out = y_pred_df[\"Predictions\"] "
   ]
  },
  {
   "cell_type": "code",
   "execution_count": 101,
   "id": "095106ee-7907-47cf-9678-9b3f845359ae",
   "metadata": {},
   "outputs": [
    {
     "data": {
      "text/plain": [
       "4    634.845525\n",
       "5    364.639682\n",
       "Name: Predictions, dtype: float64"
      ]
     },
     "execution_count": 101,
     "metadata": {},
     "output_type": "execute_result"
    }
   ],
   "source": [
    "y_pred_out"
   ]
  },
  {
   "cell_type": "code",
   "execution_count": 111,
   "id": "9c9adecf-1488-4fb2-a138-e755f8cb01b3",
   "metadata": {},
   "outputs": [],
   "source": [
    "df_2 = pd.read_csv('values.csv')"
   ]
  },
  {
   "cell_type": "code",
   "execution_count": 113,
   "id": "53a55ff9-ae57-490d-85f7-293e806a4d23",
   "metadata": {},
   "outputs": [],
   "source": [
    "df_2['ds'] = pd.to_datetime(df_2['ds'])\n",
    "y = df_2['y']\n",
    "\n",
    "ARMAmodel = SARIMAX(y, order = (1, 0, 1))\n",
    "ARMAmodel = ARMAmodel.fit()\n",
    "\n",
    "y_pred = ARMAmodel.get_forecast(2)\n",
    "y_pred_df = y_pred.conf_int(alpha = 0.05) \n",
    "\n",
    "y_pred_df[\"Predictions\"] = ARMAmodel.predict(start = y_pred_df.index[0], end = y_pred_df.index[-1])\n",
    "\n",
    "y_pred_out = y_pred_df[\"Predictions\"] "
   ]
  },
  {
   "cell_type": "code",
   "execution_count": 115,
   "id": "0c794349-6785-49ba-81dd-bdd3a58e41d2",
   "metadata": {},
   "outputs": [
    {
     "data": {
      "text/plain": [
       "4    83664.989948\n",
       "5    72993.229199\n",
       "Name: Predictions, dtype: float64"
      ]
     },
     "execution_count": 115,
     "metadata": {},
     "output_type": "execute_result"
    }
   ],
   "source": [
    "y_pred_out\n",
    "# This is the prediction of total revenue contribution of top 3 segments"
   ]
  },
  {
   "cell_type": "raw",
   "id": "d2e53ce4-a4cf-4b58-b713-02024117b684",
   "metadata": {},
   "source": [
    "Approx total rebate for June $83664 for the top 3 segments that contribute to approx 80-85% of revenue for trading api. Estimated PFOF for Trading API would then be \n",
    "$96,213 - $100,396. "
   ]
  },
  {
   "cell_type": "code",
   "execution_count": 116,
   "id": "2a44e9da-6c1b-4824-a764-2dcc02255025",
   "metadata": {},
   "outputs": [],
   "source": [
    "y = df_2['y2']\n",
    "\n",
    "ARMAmodel = SARIMAX(y, order = (1, 0, 1))\n",
    "ARMAmodel = ARMAmodel.fit()\n",
    "\n",
    "y_pred = ARMAmodel.get_forecast(2)\n",
    "y_pred_df = y_pred.conf_int(alpha = 0.05) \n",
    "\n",
    "y_pred_df[\"Predictions\"] = ARMAmodel.predict(start = y_pred_df.index[0], end = y_pred_df.index[-1])\n",
    "\n",
    "y_pred_out = y_pred_df[\"Predictions\"] "
   ]
  },
  {
   "cell_type": "code",
   "execution_count": 117,
   "id": "30d19c1b-8387-4198-bf98-635c7eb5261e",
   "metadata": {},
   "outputs": [
    {
     "data": {
      "text/plain": [
       "4    1800.363015\n",
       "5    1731.979171\n",
       "Name: Predictions, dtype: float64"
      ]
     },
     "execution_count": 117,
     "metadata": {},
     "output_type": "execute_result"
    }
   ],
   "source": [
    "y_pred_out"
   ]
  },
  {
   "cell_type": "raw",
   "id": "ee5945b1-94b4-4abd-b39f-e2860bd05132",
   "metadata": {},
   "source": [
    "Approx rebate per account on average for June $1800 for the top 3 segments that contribute to approx 80-85% of revenue for trading api."
   ]
  },
  {
   "cell_type": "markdown",
   "id": "1392eb7c-e39a-4d72-a7f4-127058a5ea15",
   "metadata": {},
   "source": [
    "## Ledgie Calculation and Forecast"
   ]
  },
  {
   "cell_type": "code",
   "execution_count": 7,
   "id": "bddc2dc3-5103-40ef-9be1-1e0c198a7009",
   "metadata": {},
   "outputs": [],
   "source": [
    "from clickhouse_driver import Client\n",
    "\n",
    "client = Client(host='172.30.0.13', user='jup_user', password='Alpac@jup')"
   ]
  },
  {
   "cell_type": "code",
   "execution_count": 38,
   "id": "2eec7856-6e84-48d0-ab9b-0c4205e0d877",
   "metadata": {},
   "outputs": [],
   "source": [
    "df_margin = client.query_dataframe(\n",
    " \"\"\"\n",
    "with margin_int as (\n",
    "select\n",
    "account_no,\n",
    "date_trunc('month', settle_date) as settle_date,\n",
    "margin_interest,\n",
    "status\n",
    "\n",
    "from ledgie_replica.fee_margin_int\n",
    "\n",
    "where cast(settle_date as date) between '2022-01-01' and '2022-06-01'\n",
    "and status = 'posted' \n",
    "\n",
    "group by account_no, settle_date,  margin_interest, status\n",
    "\n",
    "),\n",
    "\n",
    "final_data as (\n",
    "select\n",
    "mi.account_no, z.account_number, mi.settle_date, mi.margin_interest\n",
    "from gobroker.accounts z\n",
    "left join margin_int mi on mi.account_no = z.account_number\n",
    "where cast(mi.settle_date as date) between '2022-01-01' and '2022-06-01'\n",
    "and correspondent in ('LPCA', '')\n",
    "and mi.margin_interest > 0\n",
    "order by mi.settle_date\n",
    "),\n",
    "\n",
    "sum_of as (\n",
    "select settle_date, sum(margin_interest)\n",
    "from final_data\n",
    "group by settle_date\n",
    ")\n",
    "\n",
    "select *\n",
    "from sum_of\n",
    " \"\"\"\n",
    "\n",
    ")"
   ]
  },
  {
   "cell_type": "code",
   "execution_count": 42,
   "id": "0b7042d0-1ef2-4353-90de-a935b2033161",
   "metadata": {},
   "outputs": [],
   "source": [
    "from statsmodels.tsa.statespace.sarimax import SARIMAX"
   ]
  },
  {
   "cell_type": "code",
   "execution_count": 49,
   "id": "0ab82550-2316-4b09-973a-afba41ffbafb",
   "metadata": {},
   "outputs": [
    {
     "name": "stderr",
     "output_type": "stream",
     "text": [
      "/opt/conda/lib/python3.10/site-packages/statsmodels/tsa/statespace/sarimax.py:978: UserWarning: Non-invertible starting MA parameters found. Using zeros as starting parameters.\n",
      "  warn('Non-invertible starting MA parameters found.'\n",
      "/opt/conda/lib/python3.10/site-packages/statsmodels/base/model.py:604: ConvergenceWarning: Maximum Likelihood optimization failed to converge. Check mle_retvals\n",
      "  warnings.warn(\"Maximum Likelihood optimization failed to \"\n"
     ]
    }
   ],
   "source": [
    "#df_margin['settle_date'] = pd.to_datetime(df_margin['settle_date'])\n",
    "y = df_margin['sum_margin_interest_'].astype(int)\n",
    "\n",
    "ARMAmodel = SARIMAX(y, order = (1, 0, 1))\n",
    "ARMAmodel = ARMAmodel.fit()\n",
    "\n",
    "y_pred = ARMAmodel.get_forecast(2)\n",
    "y_pred_df = y_pred.conf_int(alpha = 0.05) \n",
    "\n",
    "y_pred_df[\"Predictions\"] = ARMAmodel.predict(start = y_pred_df.index[0], end = y_pred_df.index[-1])\n",
    "\n",
    "y_pred_out = y_pred_df[\"Predictions\"] "
   ]
  },
  {
   "cell_type": "code",
   "execution_count": 50,
   "id": "28bacac6-9a05-47c2-aae4-296c1055919c",
   "metadata": {},
   "outputs": [
    {
     "data": {
      "text/plain": [
       "5    7681.171197\n",
       "6    7672.801323\n",
       "Name: Predictions, dtype: float64"
      ]
     },
     "execution_count": 50,
     "metadata": {},
     "output_type": "execute_result"
    }
   ],
   "source": [
    "y_pred_out"
   ]
  },
  {
   "cell_type": "raw",
   "id": "79b03b7c-0174-4039-9bdb-69fb2744128d",
   "metadata": {},
   "source": [
    "Expected to make $7681 approx in margin int revenue for trading api in June 2022, and $7672 in July 2022"
   ]
  }
 ],
 "metadata": {
  "kernelspec": {
   "display_name": "Python 3.8.9 64-bit",
   "language": "python",
   "name": "python3"
  },
  "language_info": {
   "codemirror_mode": {
    "name": "ipython",
    "version": 3
   },
   "file_extension": ".py",
   "mimetype": "text/x-python",
   "name": "python",
   "nbconvert_exporter": "python",
   "pygments_lexer": "ipython3",
   "version": "3.8.9"
  },
  "vscode": {
   "interpreter": {
    "hash": "31f2aee4e71d21fbe5cf8b01ff0e069b9275f58929596ceb00d14d90e3e16cd6"
   }
  }
 },
 "nbformat": 4,
 "nbformat_minor": 5
}
