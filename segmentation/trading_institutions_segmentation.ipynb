{
 "cells": [
  {
   "cell_type": "code",
   "execution_count": 84,
   "id": "2adeb90b-539c-4686-a142-5cebf60927fc",
   "metadata": {},
   "outputs": [],
   "source": [
    "import pandas as pd \n",
    "import matplotlib.pyplot as plt\n",
    "import numpy as np\n",
    "import sqlalchemy "
   ]
  },
  {
   "cell_type": "code",
   "execution_count": 13,
   "id": "5a163c6c-e8c3-44e4-bb33-b3b8a3bcab42",
   "metadata": {},
   "outputs": [],
   "source": [
    "df_usage = pd.read_csv('usage_cost.csv')"
   ]
  },
  {
   "cell_type": "code",
   "execution_count": 15,
   "id": "5a7e73d9-7163-4df1-9cf7-a90db41ee4a2",
   "metadata": {},
   "outputs": [],
   "source": [
    "df_revenue = pd.read_csv('total_revenue.csv')"
   ]
  },
  {
   "cell_type": "code",
   "execution_count": 16,
   "id": "60d090ad-ddca-43a0-ade1-f3471a7f4988",
   "metadata": {},
   "outputs": [],
   "source": [
    "df_revenue = df_revenue.drop(['jan.1'], axis=1)"
   ]
  },
  {
   "cell_type": "code",
   "execution_count": 17,
   "id": "c7c19d1a-7ffc-4291-ba55-cac8fda1f4ab",
   "metadata": {},
   "outputs": [],
   "source": [
    "df_final = pd.merge(df_usage, df_revenue, on='accounts', how='outer')"
   ]
  },
  {
   "cell_type": "code",
   "execution_count": 22,
   "id": "3b6f4b31-2b75-400c-88d0-c5357102df20",
   "metadata": {},
   "outputs": [],
   "source": [
    "df_final_sorted = df_final.sort_values(by=['June 2022'], ascending = False)"
   ]
  },
  {
   "cell_type": "code",
   "execution_count": 36,
   "id": "985bb857-f7c3-4a6d-94cc-336723cc0388",
   "metadata": {},
   "outputs": [],
   "source": [
    "df_june = df_final_sorted[['accounts', 'June 2022', 'june']]"
   ]
  },
  {
   "cell_type": "code",
   "execution_count": 61,
   "id": "13af757a-d725-4426-bdf7-1a7d43cb733d",
   "metadata": {},
   "outputs": [],
   "source": [
    "df_june = df_june.rename(columns={\"June 2022\": \"June Cost\", \"june\": \"June Revenue\"}, errors=\"raise\")"
   ]
  },
  {
   "cell_type": "code",
   "execution_count": null,
   "id": "200d9129-4d5f-48ae-b243-db9df5f633b7",
   "metadata": {},
   "outputs": [],
   "source": []
  },
  {
   "cell_type": "code",
   "execution_count": 64,
   "id": "8b430402-9716-49da-9375-1ba1c5eb54f1",
   "metadata": {},
   "outputs": [
    {
     "data": {
      "text/html": [
       "<style type=\"text/css\">\n",
       "#T_61056_row0_col1, #T_61056_row7_col2 {\n",
       "  background-color: #00441b;\n",
       "  color: #f1f1f1;\n",
       "}\n",
       "#T_61056_row0_col2 {\n",
       "  background-color: #cbeac4;\n",
       "  color: #000000;\n",
       "}\n",
       "#T_61056_row1_col1 {\n",
       "  background-color: #7fc97f;\n",
       "  color: #000000;\n",
       "}\n",
       "#T_61056_row1_col2 {\n",
       "  background-color: #ebf7e7;\n",
       "  color: #000000;\n",
       "}\n",
       "#T_61056_row2_col1 {\n",
       "  background-color: #e9f7e5;\n",
       "  color: #000000;\n",
       "}\n",
       "#T_61056_row2_col2 {\n",
       "  background-color: #d0edca;\n",
       "  color: #000000;\n",
       "}\n",
       "#T_61056_row3_col1 {\n",
       "  background-color: #eaf7e6;\n",
       "  color: #000000;\n",
       "}\n",
       "#T_61056_row3_col2, #T_61056_row8_col1, #T_61056_row9_col1 {\n",
       "  background-color: #f5fbf3;\n",
       "  color: #000000;\n",
       "}\n",
       "#T_61056_row4_col1, #T_61056_row10_col2 {\n",
       "  background-color: #f0f9ed;\n",
       "  color: #000000;\n",
       "}\n",
       "#T_61056_row4_col2, #T_61056_row5_col2, #T_61056_row8_col2, #T_61056_row9_col2, #T_61056_row11_col2, #T_61056_row12_col2, #T_61056_row13_col1, #T_61056_row13_col2, #T_61056_row14_col1, #T_61056_row14_col2, #T_61056_row15_col1, #T_61056_row16_col1, #T_61056_row16_col2, #T_61056_row17_col1, #T_61056_row17_col2, #T_61056_row18_col1, #T_61056_row18_col2, #T_61056_row19_col1 {\n",
       "  background-color: #f7fcf5;\n",
       "  color: #000000;\n",
       "}\n",
       "#T_61056_row5_col1, #T_61056_row6_col1 {\n",
       "  background-color: #f1faee;\n",
       "  color: #000000;\n",
       "}\n",
       "#T_61056_row6_col2 {\n",
       "  background-color: #d1edcb;\n",
       "  color: #000000;\n",
       "}\n",
       "#T_61056_row7_col1, #T_61056_row15_col2 {\n",
       "  background-color: #f4fbf2;\n",
       "  color: #000000;\n",
       "}\n",
       "#T_61056_row10_col1, #T_61056_row11_col1, #T_61056_row12_col1 {\n",
       "  background-color: #f6fcf4;\n",
       "  color: #000000;\n",
       "}\n",
       "#T_61056_row19_col2 {\n",
       "  background-color: #bde5b6;\n",
       "  color: #000000;\n",
       "}\n",
       "</style>\n",
       "<table id=\"T_61056\">\n",
       "  <thead>\n",
       "    <tr>\n",
       "      <th id=\"T_61056_level0_col0\" class=\"col_heading level0 col0\" >Correspondent</th>\n",
       "      <th id=\"T_61056_level0_col1\" class=\"col_heading level0 col1\" >June Cost</th>\n",
       "      <th id=\"T_61056_level0_col2\" class=\"col_heading level0 col2\" >June Revenue</th>\n",
       "    </tr>\n",
       "  </thead>\n",
       "  <tbody>\n",
       "    <tr>\n",
       "      <td id=\"T_61056_row0_col0\" class=\"data row0 col0\" >gotr</td>\n",
       "      <td id=\"T_61056_row0_col1\" class=\"data row0 col1\" >57369.580000</td>\n",
       "      <td id=\"T_61056_row0_col2\" class=\"data row0 col2\" >3942.730000</td>\n",
       "    </tr>\n",
       "    <tr>\n",
       "      <td id=\"T_61056_row1_col0\" class=\"data row1 col0\" >stbt</td>\n",
       "      <td id=\"T_61056_row1_col1\" class=\"data row1 col1\" >27125.610000</td>\n",
       "      <td id=\"T_61056_row1_col2\" class=\"data row1 col2\" >1418.730000</td>\n",
       "    </tr>\n",
       "    <tr>\n",
       "      <td id=\"T_61056_row2_col0\" class=\"data row2 col0\" >indw</td>\n",
       "      <td id=\"T_61056_row2_col1\" class=\"data row2 col1\" >5720.290000</td>\n",
       "      <td id=\"T_61056_row2_col2\" class=\"data row2 col2\" >3501.390000</td>\n",
       "    </tr>\n",
       "    <tr>\n",
       "      <td id=\"T_61056_row3_col0\" class=\"data row3 col0\" >valb</td>\n",
       "      <td id=\"T_61056_row3_col1\" class=\"data row3 col1\" >5357.340000</td>\n",
       "      <td id=\"T_61056_row3_col2\" class=\"data row3 col2\" >207.790000</td>\n",
       "    </tr>\n",
       "    <tr>\n",
       "      <td id=\"T_61056_row4_col0\" class=\"data row4 col0\" >nano</td>\n",
       "      <td id=\"T_61056_row4_col1\" class=\"data row4 col1\" >2869.190000</td>\n",
       "      <td id=\"T_61056_row4_col2\" class=\"data row4 col2\" >36.720000</td>\n",
       "    </tr>\n",
       "    <tr>\n",
       "      <td id=\"T_61056_row5_col0\" class=\"data row5 col0\" >shrs</td>\n",
       "      <td id=\"T_61056_row5_col1\" class=\"data row5 col1\" >2608.310000</td>\n",
       "      <td id=\"T_61056_row5_col2\" class=\"data row5 col2\" >51.710000</td>\n",
       "    </tr>\n",
       "    <tr>\n",
       "      <td id=\"T_61056_row6_col0\" class=\"data row6 col0\" >srwa</td>\n",
       "      <td id=\"T_61056_row6_col1\" class=\"data row6 col1\" >2390.150000</td>\n",
       "      <td id=\"T_61056_row6_col2\" class=\"data row6 col2\" >3442.760000</td>\n",
       "    </tr>\n",
       "    <tr>\n",
       "      <td id=\"T_61056_row7_col0\" class=\"data row7 col0\" >mida</td>\n",
       "      <td id=\"T_61056_row7_col1\" class=\"data row7 col1\" >1270.030000</td>\n",
       "      <td id=\"T_61056_row7_col2\" class=\"data row7 col2\" >16549.420000</td>\n",
       "    </tr>\n",
       "    <tr>\n",
       "      <td id=\"T_61056_row8_col0\" class=\"data row8 col0\" >rasd</td>\n",
       "      <td id=\"T_61056_row8_col1\" class=\"data row8 col1\" >937.230000</td>\n",
       "      <td id=\"T_61056_row8_col2\" class=\"data row8 col2\" >30.260000</td>\n",
       "    </tr>\n",
       "    <tr>\n",
       "      <td id=\"T_61056_row9_col0\" class=\"data row9 col0\" >gild</td>\n",
       "      <td id=\"T_61056_row9_col1\" class=\"data row9 col1\" >846.330000</td>\n",
       "      <td id=\"T_61056_row9_col2\" class=\"data row9 col2\" >1.890000</td>\n",
       "    </tr>\n",
       "    <tr>\n",
       "      <td id=\"T_61056_row10_col0\" class=\"data row10 col0\" >cpsr</td>\n",
       "      <td id=\"T_61056_row10_col1\" class=\"data row10 col1\" >495.920000</td>\n",
       "      <td id=\"T_61056_row10_col2\" class=\"data row10 col2\" >825.200000</td>\n",
       "    </tr>\n",
       "    <tr>\n",
       "      <td id=\"T_61056_row11_col0\" class=\"data row11 col0\" >blum</td>\n",
       "      <td id=\"T_61056_row11_col1\" class=\"data row11 col1\" >344.640000</td>\n",
       "      <td id=\"T_61056_row11_col2\" class=\"data row11 col2\" >18.800000</td>\n",
       "    </tr>\n",
       "    <tr>\n",
       "      <td id=\"T_61056_row12_col0\" class=\"data row12 col0\" >dlpa</td>\n",
       "      <td id=\"T_61056_row12_col1\" class=\"data row12 col1\" >339.440000</td>\n",
       "      <td id=\"T_61056_row12_col2\" class=\"data row12 col2\" >42.350000</td>\n",
       "    </tr>\n",
       "    <tr>\n",
       "      <td id=\"T_61056_row13_col0\" class=\"data row13 col0\" >zami</td>\n",
       "      <td id=\"T_61056_row13_col1\" class=\"data row13 col1\" >223.340000</td>\n",
       "      <td id=\"T_61056_row13_col2\" class=\"data row13 col2\" >0.030000</td>\n",
       "    </tr>\n",
       "    <tr>\n",
       "      <td id=\"T_61056_row14_col0\" class=\"data row14 col0\" >give</td>\n",
       "      <td id=\"T_61056_row14_col1\" class=\"data row14 col1\" >214.020000</td>\n",
       "      <td id=\"T_61056_row14_col2\" class=\"data row14 col2\" >9.060000</td>\n",
       "    </tr>\n",
       "    <tr>\n",
       "      <td id=\"T_61056_row15_col0\" class=\"data row15 col0\" >gdlf</td>\n",
       "      <td id=\"T_61056_row15_col1\" class=\"data row15 col1\" >190.670000</td>\n",
       "      <td id=\"T_61056_row15_col2\" class=\"data row15 col2\" >373.460000</td>\n",
       "    </tr>\n",
       "    <tr>\n",
       "      <td id=\"T_61056_row16_col0\" class=\"data row16 col0\" >onu1</td>\n",
       "      <td id=\"T_61056_row16_col1\" class=\"data row16 col1\" >188.970000</td>\n",
       "      <td id=\"T_61056_row16_col2\" class=\"data row16 col2\" >0.070000</td>\n",
       "    </tr>\n",
       "    <tr>\n",
       "      <td id=\"T_61056_row17_col0\" class=\"data row17 col0\" >emma</td>\n",
       "      <td id=\"T_61056_row17_col1\" class=\"data row17 col1\" >155.770000</td>\n",
       "      <td id=\"T_61056_row17_col2\" class=\"data row17 col2\" >0.150000</td>\n",
       "    </tr>\n",
       "    <tr>\n",
       "      <td id=\"T_61056_row18_col0\" class=\"data row18 col0\" >xant</td>\n",
       "      <td id=\"T_61056_row18_col1\" class=\"data row18 col1\" >97.690000</td>\n",
       "      <td id=\"T_61056_row18_col2\" class=\"data row18 col2\" >2.390000</td>\n",
       "    </tr>\n",
       "    <tr>\n",
       "      <td id=\"T_61056_row19_col0\" class=\"data row19 col0\" >sfsg</td>\n",
       "      <td id=\"T_61056_row19_col1\" class=\"data row19 col1\" >68.690000</td>\n",
       "      <td id=\"T_61056_row19_col2\" class=\"data row19 col2\" >4682.510000</td>\n",
       "    </tr>\n",
       "  </tbody>\n",
       "</table>\n"
      ],
      "text/plain": [
       "<pandas.io.formats.style.Styler at 0x7f5c8dbbb310>"
      ]
     },
     "execution_count": 64,
     "metadata": {},
     "output_type": "execute_result"
    }
   ],
   "source": [
    "df_june.head(20).style.format({\"June Cost\": \"${:20,.0f}\"})\\\n",
    "                 .format({\"accounts\": lambda x:x.lower()})\\\n",
    "                 .hide(axis='index')\\\n",
    "                 .background_gradient(cmap='Greens')"
   ]
  },
  {
   "cell_type": "code",
   "execution_count": 83,
   "id": "063a58d3-c122-4329-b934-e31fffe0837b",
   "metadata": {},
   "outputs": [
    {
     "data": {
      "text/plain": [
       "<AxesSubplot:title={'center':'API Infra Cost vs Revenue Generated (June 2022)'}, xlabel='Correspondent', ylabel='Cost vs Revenue ($)'>"
      ]
     },
     "execution_count": 83,
     "metadata": {},
     "output_type": "execute_result"
    },
    {
     "data": {
      "image/png": "[encoded data removed]",
      "text/plain": [
       "<Figure size 1440x720 with 1 Axes>"
      ]
     },
     "metadata": {
      "needs_background": "light"
     },
     "output_type": "display_data"
    }
   ],
   "source": [
    "df_june.head(20).plot(kind=\"bar\", x='accounts', color=['Blue', 'Green'],  figsize = (20, 10), xlabel = 'accounts', ylabel = 'Cost vs Revenue ($)', \\\n",
    "                      title = 'Product Infra Cost vs Revenue Generated (June 2022)')"
   ]
  },
  {
   "cell_type": "code",
   "execution_count": 85,
   "id": "e09a5270-22c8-4e20-b19a-f5ca6a8c5588",
   "metadata": {},
   "outputs": [],
   "source": [
    "engine = sqlalchemy.create_engine('postgres_URI')"
   ]
  },
  {
   "cell_type": "code",
   "execution_count": 88,
   "id": "b4ec8d8f-098d-4bb4-848f-3c8dc2b97c4a",
   "metadata": {},
   "outputs": [],
   "source": [
    "query = \"\"\"\n",
    "select\n",
    "--entity_for_exchange as broker,\n",
    "accounts as accounts,\n",
    "count(case when month_cd = '2022-01-01' then id end) as jan_executions,\n",
    "count(case when month_cd = '2022-02-01' then id end) as feb_executions,\n",
    "count(case when month_cd = '2022-03-01' then id end) as mar_executions,\n",
    "count(case when month_cd = '2022-04-01' then id end) as apr_executions,\n",
    "count(case when month_cd = '2022-05-01' then id end) as may_executions,\n",
    "count(case when month_cd = '2022-06-01' then id end) as june_executions\n",
    "\n",
    "from\n",
    "(\n",
    "select\n",
    "id,\n",
    "user_account,\n",
    "accounts,\n",
    "market_maker,\n",
    "entity_for_exchange,\n",
    "market_identifier_code,\n",
    "exchange,\n",
    "date_of_exchange,\n",
    "month_cd,\n",
    "shares_needed,\n",
    "tif,\n",
    "share_price,\n",
    "pfof,\n",
    "qty\n",
    "    \n",
    "\n",
    "from\n",
    "(\n",
    "select\n",
    "a.id,\n",
    "A.source,\n",
    "B.user_account,\n",
    "B.accounts,\n",
    "A.market_maker,\n",
    "D.entity_for_exchange,\n",
    "C.exchange,\n",
    "D.market_identifier_code,\n",
    "A.extended_hours,\n",
    "cast(a.filled_at as date) as date_of_exchange,\n",
    "date_trunc('month',a.filled_at) as month_cd,\n",
    "A.shares_needed,\n",
    "A.share_price,\n",
    "A.tif,\n",
    "D.created_at_order,\n",
    "D.created_at_order_ns,\n",
    "D.qty\n",
    "from orders A\n",
    "\n",
    "join accounts B\n",
    "on A.account = B.user_account\n",
    "\n",
    "join assets C\n",
    "on A.asset_id::uuid = C.id::uuid\n",
    "\n",
    "join executions D\n",
    "on A.id = D.order_id\n",
    "\n",
    "\n",
    "where D.order_status like '%%filled%%'\n",
    "\n",
    ") as aaa\n",
    "\n",
    ") as aaa\n",
    "\n",
    "group by\n",
    "1\n",
    "\"\"\""
   ]
  },
  {
   "cell_type": "code",
   "execution_count": 89,
   "id": "68416bb2-50e7-4382-8e87-854058a83660",
   "metadata": {},
   "outputs": [],
   "source": [
    "df_executions = pd.read_sql_query(query, engine)"
   ]
  },
  {
   "cell_type": "code",
   "execution_count": 93,
   "id": "25ae9e6e-3fa0-4b87-bc62-14c2e7f4fe08",
   "metadata": {},
   "outputs": [],
   "source": [
    "#df_executions.to_csv('executions_df.csv')"
   ]
  },
  {
   "cell_type": "code",
   "execution_count": 95,
   "id": "875d1a2e-447d-4713-a382-f4bd22a032d6",
   "metadata": {},
   "outputs": [],
   "source": [
    "df_executions = df_executions.rename(columns={\"accounts\": \"accounts\"}, errors=\"raise\")"
   ]
  },
  {
   "cell_type": "code",
   "execution_count": 115,
   "id": "01c123dc-4b6d-4763-bb3f-305747846d3d",
   "metadata": {},
   "outputs": [],
   "source": [
    "df_executions_june = df_executions[['accounts', 'june_executions']]"
   ]
  },
  {
   "cell_type": "code",
   "execution_count": 117,
   "id": "87207cb1-363f-4b0e-8ac8-ef2d295f009b",
   "metadata": {},
   "outputs": [],
   "source": [
    "df_june = pd.merge(df_june, df_executions_june, on='accounts', how='left')"
   ]
  },
  {
   "cell_type": "code",
   "execution_count": 119,
   "id": "d28694a3-dbca-4fb2-ae18-9d56236c34c7",
   "metadata": {},
   "outputs": [],
   "source": [
    "df_june1 = df_june[['accounts', 'June Cost', 'june_executions']]"
   ]
  },
  {
   "cell_type": "code",
   "execution_count": 124,
   "id": "e94707c7-db40-489e-aa0a-6ceb97ff37fd",
   "metadata": {},
   "outputs": [],
   "source": [
    "df_june1 = df_june1.head(20)"
   ]
  },
  {
   "cell_type": "code",
   "execution_count": 125,
   "id": "77998ab1-33e9-41b2-b448-82057a78e08b",
   "metadata": {},
   "outputs": [
    {
     "name": "stderr",
     "output_type": "stream",
     "text": [
      "/tmp/ipykernel_96/2505214156.py:1: SettingWithCopyWarning: \n",
      "A value is trying to be set on a copy of a slice from a DataFrame.\n",
      "Try using .loc[row_indexer,col_indexer] = value instead\n",
      "\n",
      "See the caveats in the documentation: https://pandas.pydata.org/pandas-docs/stable/user_guide/indexing.html#returning-a-view-versus-a-copy\n",
      "  df_june1['Cost API'] = df_june1['June Cost']/df_june1['june_executions']\n"
     ]
    }
   ],
   "source": [
    "df_june1['Cost Product'] = df_june1['June Cost']/df_june1['june_executions']"
   ]
  },
  {
   "cell_type": "code",
   "execution_count": 133,
   "id": "8eedec93-5227-4e1b-b3c7-dafa29e5d52e",
   "metadata": {},
   "outputs": [
    {
     "data": {
      "text/plain": [
       "<AxesSubplot:title={'center':'API Infra Cost per Executed Trade (June 2022)'}, xlabel='Correspondent', ylabel='Cost per Executed Trade ($)'>"
      ]
     },
     "execution_count": 133,
     "metadata": {},
     "output_type": "execute_result"
    },
    {
     "data": {
      "image/png": "[encoded data removed]",
      "text/plain": [
       "<Figure size 1440x720 with 1 Axes>"
      ]
     },
     "metadata": {
      "needs_background": "light"
     },
     "output_type": "display_data"
    }
   ],
   "source": [
    "df_june1.sort_values(by=['Cost Product'], ascending = False).plot.bar(x='accounts', y='Cost Product', rot=0, figsize = (20, 10), xlabel = 'accounts', ylabel = 'Cost per Executed Trade ($)', \\\n",
    "                      title = 'Product Infra Cost per Executed Trade (June 2022)')"
   ]
  },
  {
   "cell_type": "code",
   "execution_count": 168,
   "id": "817aef87-6656-4a56-abd8-40688a061bc8",
   "metadata": {},
   "outputs": [],
   "source": [
    "query2 = \"\"\"\n",
    "select\n",
    "--entity_for_exchange as broker,\n",
    "accounts as \"accounts\",\n",
    "sum(case when month_cd = '2022-01-01' then qty end) as jan_shares,\n",
    "sum(case when month_cd = '2022-02-01' then qty end) as feb_shares,\n",
    "sum(case when month_cd = '2022-03-01' then qty end) as mar_shares,\n",
    "sum(case when month_cd = '2022-04-01' then qty end) as apr_shares,\n",
    "sum(case when month_cd = '2022-05-01' then qty end) as may_shares,\n",
    "sum(case when month_cd = '2022-06-01' then qty end) as june_shares\n",
    "\n",
    "from\n",
    "(\n",
    "select\n",
    "id,\n",
    "user_account,\n",
    "accounts,\n",
    "market_maker,\n",
    "entity_for_exchange,\n",
    "market_identifier_code,\n",
    "exchange,\n",
    "date_of_exchange,\n",
    "month_cd,\n",
    "shares_needed,\n",
    "tif,\n",
    "share_price,\n",
    "pfof,\n",
    "qty\n",
    "    \n",
    "\n",
    "\n",
    "from\n",
    "(\n",
    "select\n",
    "a.id,\n",
    "A.source,\n",
    "B.user_account,\n",
    "B.accounts,\n",
    "A.market_maker,\n",
    "D.entity_for_exchange,\n",
    "C.exchange,\n",
    "D.market_identifier_code,\n",
    "A.extended_hours,\n",
    "cast(a.filled_at as date) as date_of_exchange,\n",
    "date_trunc('month',a.filled_at) as month_cd,\n",
    "A.shares_needed,\n",
    "A.share_price,\n",
    "A.tif,\n",
    "D.created_at_order,\n",
    "D.created_at_order_ns,\n",
    "D.qty,\n",
    "\n",
    "from orders A\n",
    "\n",
    "join accounts B\n",
    "on A.account = B.user_account\n",
    "\n",
    "join assets C\n",
    "on A.asset_id::uuid = C.id::uuid\n",
    "\n",
    "join executions D\n",
    "on A.id = D.order_id\n",
    "where D.order_status like '%%filled%%'\n",
    "and D.entity_for_exchange in ('FTX','BINANCE','CREDITSUISSE')\n",
    "\n",
    ") as aaa\n",
    "\n",
    ") as aaa\n",
    "\n",
    "group by\n",
    "1\n",
    "\"\"\""
   ]
  },
  {
   "cell_type": "code",
   "execution_count": 169,
   "id": "00a19021-9a5a-4416-bd16-33ca1a0e7210",
   "metadata": {},
   "outputs": [],
   "source": [
    "df_shares = pd.read_sql_query(query2, engine)"
   ]
  },
  {
   "cell_type": "code",
   "execution_count": 175,
   "id": "88a0dbbf-7604-4206-b43b-7c7aca35e065",
   "metadata": {},
   "outputs": [],
   "source": [
    "df_shares_june = df_shares[['accounts', 'june_shares']]"
   ]
  },
  {
   "cell_type": "code",
   "execution_count": 176,
   "id": "381ef6f8-9dc9-426f-ae6b-51244cde48f1",
   "metadata": {},
   "outputs": [],
   "source": [
    "df_june = pd.merge(df_june, df_shares_june, on='accounts', how='left')"
   ]
  },
  {
   "cell_type": "code",
   "execution_count": 177,
   "id": "c8f5a85d-dd85-4dc8-9317-ea736499512b",
   "metadata": {},
   "outputs": [],
   "source": [
    "df_june2 = df_june[['accounts', 'June Cost', 'june_shares']]"
   ]
  },
  {
   "cell_type": "code",
   "execution_count": 179,
   "id": "89f0b582-578d-4fb3-816c-1673e697de29",
   "metadata": {},
   "outputs": [
    {
     "name": "stderr",
     "output_type": "stream",
     "text": [
      "/tmp/ipykernel_96/1740447594.py:1: SettingWithCopyWarning: \n",
      "A value is trying to be set on a copy of a slice from a DataFrame.\n",
      "Try using .loc[row_indexer,col_indexer] = value instead\n",
      "\n",
      "See the caveats in the documentation: https://pandas.pydata.org/pandas-docs/stable/user_guide/indexing.html#returning-a-view-versus-a-copy\n",
      "  df_june2['Cost API'] = df_june2['June Cost']/df_june2['june_shares']\n"
     ]
    }
   ],
   "source": [
    "df_june2['Cost Product'] = df_june2['June Cost']/df_june2['june_shares']"
   ]
  },
  {
   "cell_type": "code",
   "execution_count": 180,
   "id": "5a312310-6ffc-47ad-a812-f901b7189ee7",
   "metadata": {},
   "outputs": [],
   "source": [
    "df_june2 = df_june2.head(20)"
   ]
  },
  {
   "cell_type": "code",
   "execution_count": 183,
   "id": "05bfa264-96dc-4892-abb0-9570afe5a3bc",
   "metadata": {},
   "outputs": [
    {
     "data": {
      "text/plain": [
       "<AxesSubplot:title={'center':'API Infra Cost per Traded Share (June 2022)'}, xlabel='Correspondent', ylabel='Cost per Executed Trade ($)'>"
      ]
     },
     "execution_count": 183,
     "metadata": {},
     "output_type": "execute_result"
    },
    {
     "data": {
      "image/png": "[encoded data removed]",
      "text/plain": [
       "<Figure size 1440x720 with 1 Axes>"
      ]
     },
     "metadata": {
      "needs_background": "light"
     },
     "output_type": "display_data"
    }
   ],
   "source": [
    "df_june2.sort_values(by=['Cost Product'], ascending = False).plot.bar(x='accounts', y='Cost Product', rot=0, figsize = (20, 10), xlabel = 'accounts', ylabel = 'Cost per Executed Trade ($)', \\\n",
    "                      title = 'Product Infra Cost per Traded Share (June 2022)')"
   ]
  },
  {
   "cell_type": "code",
   "execution_count": 1,
   "id": "797d215b-eebe-4f93-b1d1-828b46209752",
   "metadata": {},
   "outputs": [],
   "source": [
    "query3 = \"\"\"\n",
    "select\n",
    "--entity_for_exchange as broker,\n",
    "accounts as \"accounts\",\n",
    "count(distinct case when month_cd = '2022-01-01' then user_account end) as jan_accounts,\n",
    "count(distinct case when month_cd = '2022-02-01' then user_account end) as feb_accounts,\n",
    "count(distinct case when month_cd = '2022-03-01' then user_account end) as mar_accounts,\n",
    "count(distinct case when month_cd = '2022-04-01' then user_account end) as apr_accounts,\n",
    "count(distinct case when month_cd = '2022-05-01' then user_account end) as may_accounts,\n",
    "count(distinct case when month_cd = '2022-06-01' then user_account end) as june_accounts\n",
    "\n",
    "from\n",
    "(\n",
    "select\n",
    "id,\n",
    "user_account,\n",
    "accounts,\n",
    "market_maker,\n",
    "entity_for_exchange,\n",
    "market_identifier_code,\n",
    "exchange,\n",
    "date_of_exchange,\n",
    "month_cd,\n",
    "shares_needed,\n",
    "tif,\n",
    "share_price,\n",
    "pfof,\n",
    "qty\n",
    "    \n",
    "\n",
    "from\n",
    "(\n",
    "select\n",
    "a.id,\n",
    "A.source,\n",
    "B.user_account,\n",
    "B.accounts,\n",
    "A.market_maker,\n",
    "D.entity_for_exchange,\n",
    "C.exchange,\n",
    "D.market_identifier_code,\n",
    "A.extended_hours,\n",
    "cast(a.filled_at as date) as date_of_exchange,\n",
    "date_trunc('month',a.filled_at) as month_cd,\n",
    "A.shares_needed,\n",
    "A.share_price,\n",
    "A.tif,\n",
    "D.created_at_order,\n",
    "D.created_at_order_ns,\n",
    "D.qty\n",
    "\n",
    "from orders A\n",
    "\n",
    "join accounts B\n",
    "on A.account = B.user_account\n",
    "\n",
    "join assets C\n",
    "on A.asset_id::uuid = C.id::uuid\n",
    "\n",
    "join executions D\n",
    "on A.id = D.order_id\n",
    "\n",
    "where D.order_status like '%%filled%%'\n",
    "and D.entity_for_exchange in ('FTX','BINANCE','CREDITSUISSE')\n",
    "\n",
    ") as aaa\n",
    "\n",
    ") as aaa\n",
    "\n",
    "group by\n",
    "1\n",
    "\"\"\"\n"
   ]
  },
  {
   "cell_type": "code",
   "execution_count": 2,
   "id": "f2aaf73d-5fa6-4caa-ba2f-c3519cbdd979",
   "metadata": {},
   "outputs": [
    {
     "ename": "NameError",
     "evalue": "name 'pd' is not defined",
     "output_type": "error",
     "traceback": [
      "\u001b[0;31m---------------------------------------------------------------------------\u001b[0m",
      "\u001b[0;31mNameError\u001b[0m                                 Traceback (most recent call last)",
      "Input \u001b[0;32mIn [2]\u001b[0m, in \u001b[0;36m<cell line: 1>\u001b[0;34m()\u001b[0m\n\u001b[0;32m----> 1\u001b[0m df_accounts_traded \u001b[38;5;241m=\u001b[39m \u001b[43mpd\u001b[49m\u001b[38;5;241m.\u001b[39mread_sql_query(query3, engine)\n",
      "\u001b[0;31mNameError\u001b[0m: name 'pd' is not defined"
     ]
    }
   ],
   "source": [
    "df_accounts_traded = pd.read_sql_query(query3, engine)"
   ]
  },
  {
   "cell_type": "code",
   "execution_count": 157,
   "id": "a13f8194-b464-4e2f-bead-241fdc678dcb",
   "metadata": {},
   "outputs": [],
   "source": [
    "df_accounts_traded_june = df_accounts_traded[['accounts', 'june_accounts']]\n",
    "df_june = pd.merge(df_june, df_accounts_traded_june, on='accounts', how='left')"
   ]
  },
  {
   "cell_type": "code",
   "execution_count": 159,
   "id": "313b40a9-d0ff-4082-b010-b68e786748c7",
   "metadata": {},
   "outputs": [
    {
     "name": "stderr",
     "output_type": "stream",
     "text": [
      "/tmp/ipykernel_96/2140755766.py:2: SettingWithCopyWarning: \n",
      "A value is trying to be set on a copy of a slice from a DataFrame.\n",
      "Try using .loc[row_indexer,col_indexer] = value instead\n",
      "\n",
      "See the caveats in the documentation: https://pandas.pydata.org/pandas-docs/stable/user_guide/indexing.html#returning-a-view-versus-a-copy\n",
      "  df_june3['Cost API'] = df_june3['June Cost']/df_june3['june_accounts']\n"
     ]
    }
   ],
   "source": [
    "df_june3 = df_june[['accounts', 'June Cost', 'june_accounts']]\n",
    "df_june3['Cost Product'] = df_june3['June Cost']/df_june3['june_accounts']"
   ]
  },
  {
   "cell_type": "code",
   "execution_count": 160,
   "id": "ae199995-db85-4111-89e9-03d57e597d4b",
   "metadata": {},
   "outputs": [],
   "source": [
    "df_june3 = df_june3.head(20)"
   ]
  },
  {
   "cell_type": "code",
   "execution_count": 3,
   "id": "89f4421c-1225-4ff1-a42e-75385f105657",
   "metadata": {},
   "outputs": [
    {
     "ename": "NameError",
     "evalue": "name 'df_june3' is not defined",
     "output_type": "error",
     "traceback": [
      "\u001b[0;31m---------------------------------------------------------------------------\u001b[0m",
      "\u001b[0;31mNameError\u001b[0m                                 Traceback (most recent call last)",
      "Input \u001b[0;32mIn [3]\u001b[0m, in \u001b[0;36m<cell line: 1>\u001b[0;34m()\u001b[0m\n\u001b[0;32m----> 1\u001b[0m \u001b[43mdf_june3\u001b[49m\u001b[38;5;241m.\u001b[39msort_values(by\u001b[38;5;241m=\u001b[39m[\u001b[38;5;124m'\u001b[39m\u001b[38;5;124mCost API\u001b[39m\u001b[38;5;124m'\u001b[39m], ascending \u001b[38;5;241m=\u001b[39m \u001b[38;5;28;01mFalse\u001b[39;00m)\n",
      "\u001b[0;31mNameError\u001b[0m: name 'df_june3' is not defined"
     ]
    }
   ],
   "source": [
    "df_june3.sort_values(by=['Cost Product'], ascending = False)"
   ]
  },
  {
   "cell_type": "code",
   "execution_count": 184,
   "id": "a30c5005-1489-4d42-a5e2-457265aca936",
   "metadata": {},
   "outputs": [
    {
     "data": {
      "text/plain": [
       "<AxesSubplot:title={'center':'API Infra Cost per Active Account (June 2022)'}, xlabel='Correspondent', ylabel='Cost per Account ($)'>"
      ]
     },
     "execution_count": 184,
     "metadata": {},
     "output_type": "execute_result"
    },
    {
     "data": {
      "image/png": "[encoded data removed]",
      "text/plain": [
       "<Figure size 1440x720 with 1 Axes>"
      ]
     },
     "metadata": {
      "needs_background": "light"
     },
     "output_type": "display_data"
    }
   ],
   "source": [
    "df_june3.sort_values(by=['Cost Product'], ascending = False).plot.bar(x='accounts', y='Cost Product', rot=0, figsize = (20, 10), xlabel = 'accounts', ylabel = 'Cost per Account ($)', \\\n",
    "                      title = 'Product Infra Cost per Active Account (June 2022)')"
   ]
  },
  {
   "cell_type": "code",
   "execution_count": null,
   "id": "233ab632-ccf0-46a9-9ca8-21ea86298b30",
   "metadata": {},
   "outputs": [],
   "source": []
  }
 ],
 "metadata": {
  "kernelspec": {
   "display_name": "Python 3.8.9 64-bit",
   "language": "python",
   "name": "python3"
  },
  "language_info": {
   "codemirror_mode": {
    "name": "ipython",
    "version": 3
   },
   "file_extension": ".py",
   "mimetype": "text/x-python",
   "name": "python",
   "nbconvert_exporter": "python",
   "pygments_lexer": "ipython3",
   "version": "3.8.9"
  },
  "vscode": {
   "interpreter": {
    "hash": "31f2aee4e71d21fbe5cf8b01ff0e069b9275f58929596ceb00d14d90e3e16cd6"
   }
  }
 },
 "nbformat": 4,
 "nbformat_minor": 5
}
