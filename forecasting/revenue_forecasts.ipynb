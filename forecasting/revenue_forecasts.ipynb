{
 "cells": [
  {
   "cell_type": "code",
   "execution_count": 3,
   "id": "2d457916-13bb-4869-9179-3becabc8004f",
   "metadata": {},
   "outputs": [
    {
     "name": "stdout",
     "output_type": "stream",
     "text": [
      "Requirement already satisfied: pandasql in /opt/conda/lib/python3.10/site-packages (0.7.3)\n",
      "Requirement already satisfied: sqlalchemy in /opt/conda/lib/python3.10/site-packages (from pandasql) (1.3.24)\n",
      "Requirement already satisfied: numpy in /opt/conda/lib/python3.10/site-packages (from pandasql) (1.21.6)\n",
      "Requirement already satisfied: pandas in /opt/conda/lib/python3.10/site-packages (from pandasql) (1.4.2)\n",
      "Requirement already satisfied: python-dateutil>=2.8.1 in /opt/conda/lib/python3.10/site-packages (from pandas->pandasql) (2.8.2)\n",
      "Requirement already satisfied: pytz>=2020.1 in /opt/conda/lib/python3.10/site-packages (from pandas->pandasql) (2022.1)\n",
      "Requirement already satisfied: six>=1.5 in /opt/conda/lib/python3.10/site-packages (from python-dateutil>=2.8.1->pandas->pandasql) (1.16.0)\n"
     ]
    }
   ],
   "source": [
    "!pip install pandasql\n"
   ]
  },
  {
   "cell_type": "code",
   "execution_count": 4,
   "id": "1ef73435-7bc9-4466-840c-bbda57e0b9f7",
   "metadata": {},
   "outputs": [],
   "source": [
    "import sqlalchemy as sql\n",
    "import psycopg2 \n",
    "import pandas.io.sql as sqlio\n",
    "import pandas as pd\n",
    "from functools import reduce\n",
    "import sqlalchemy\n",
    "import seaborn as sns\n",
    "import matplotlib.pyplot as plt\n",
    "from pandasql import sqldf"
   ]
  },
  {
   "cell_type": "code",
   "execution_count": 5,
   "id": "72e40dd4-5d59-4897-83c4-81b56e3ab419",
   "metadata": {},
   "outputs": [],
   "source": [
    "engine = sqlalchemy.create_engine('insert_url')"
   ]
  },
  {
   "cell_type": "code",
   "execution_count": 6,
   "id": "a6ce94cf-f4ef-4737-883b-8c87a76b2a30",
   "metadata": {},
   "outputs": [],
   "source": [
    "query = \"\"\"\n",
    "with equity_avg as (\n",
    "select account_number , percentile_cont(0.5) within group (order by avg_equity) as median_equity\n",
    "from (\n",
    "select account_number, sum(max_equity_month)/count(month_of) as avg_equity\n",
    "from (\n",
    "select a.account_number,date_trunc('month', asof) as month_of, max(db.equity) as max_equity_month\n",
    "from net_balance db \n",
    "left join accounts A on a.id = db.account_id\n",
    "where a.account_type in ('type_a', '', 'NULL')\n",
    "and asof between '2021-05-01' and '2021-06-01'\n",
    "and db.equity > 0\n",
    "and a.account_number is not NULL\n",
    "group by 1, 2\n",
    ")query1\n",
    "group by 1\n",
    ")query2\n",
    "group by 1\n",
    "),\n",
    "\n",
    "mean_orders as (\n",
    "select orders.account,  count(orders.id)/count(distinct date_trunc('day', filled_at)) as orders_per_day\n",
    "from orders \n",
    "left join accounts A on a.account_number = orders.account \n",
    "left join assets ast ON ast.id::uuid=orders.asset_id::uuid\n",
    "where filled_at::date between '2021-05-01' and '2021-06-01'\n",
    "and filled_at is not NULL\n",
    "and ast.class = 'us_equity'\n",
    "and orders.account not in ('NULL', '', 'NOHODL')\n",
    "and account_type in ('type_a', '', 'NULL')\n",
    "group by 1\n",
    "\n",
    "),\n",
    "\n",
    "order_list as (\n",
    "\n",
    "select * \n",
    "from orders_table\n",
    "),\n",
    "\n",
    "\n",
    "cte1 as (\n",
    "select * \n",
    "from order_list\n",
    "\n",
    "),\n",
    "\n",
    "\n",
    "\n",
    "final_data as (\n",
    "select\n",
    "account_number,\n",
    "sum(qty*rebate_amount) as tot_rebates\n",
    "from cte1\n",
    "\n",
    "group by 1),\n",
    "\n",
    "final_segmentation as (\n",
    "\n",
    "select mo.account, fd.tot_rebates,\n",
    "case when orders_per_day < 5 and median_equity < 25000 then 'LOW AUM LOW FREQ'  \n",
    "     when (orders_per_day between 5 and 100) and median_equity < 25000 then 'LOW AUM MED FREQ'\n",
    "     when orders_per_day > 100 and median_equity < 25000 then 'LOW AUM HIGH FREQ'\n",
    "     when orders_per_day < 5 and (median_equity between 25000 and 250000) then 'MED AUM LOW FREQ'\n",
    "     when (orders_per_day between 5 and 100) and (median_equity between 25000 and 250000) then 'MED AUM MED FREQ'\n",
    "     when orders_per_day > 100 and (median_equity between 25000 and 250000) then 'MED AUM HIGH FREQ'\n",
    "     when orders_per_day < 5 and median_equity >250000 then 'HIGH AUM LOW FREQ'\n",
    "     when (orders_per_day between 5 and 100) and median_equity >250000 then 'HIGH AUM MED FREQ'\n",
    "     when orders_per_day > 100 and median_equity >250000 then 'HIGH AUM HIGH FREQ'\n",
    "     else 'other' end as data_group\n",
    "     \n",
    "from mean_orders mo\n",
    "left join equity_avg ea on ea.account_number = mo.account \n",
    "left join final_data fd on fd.account_number = mo.account)\n",
    "\n",
    "\n",
    "\n",
    "select count(distinct account) as total_accounts ,  sum(tot_rebates) as total_revenue, data_group\n",
    "from final_segmentation\n",
    "group by 3\n",
    "\n",
    "\n",
    "\"\"\""
   ]
  },
  {
   "cell_type": "code",
   "execution_count": 7,
   "id": "aecb9aa0-223b-42bb-bed0-bddc0a513864",
   "metadata": {},
   "outputs": [],
   "source": [
    "df = pd.read_sql_query(query, engine)"
   ]
  },
  {
   "cell_type": "code",
   "execution_count": 38,
   "id": "9e31452e-64a9-4a22-b5eb-cceae50dc3b2",
   "metadata": {},
   "outputs": [],
   "source": [
    "df['revenue_account'] = df['total_revenue']/df['total_accounts']"
   ]
  },
  {
   "cell_type": "code",
   "execution_count": 39,
   "id": "bd1666ff-d1d2-496f-87df-9a5660247812",
   "metadata": {},
   "outputs": [],
   "source": [
    "df = df.sort_values(by='total_revenue', ascending = False)"
   ]
  },
  {
   "cell_type": "code",
   "execution_count": 40,
   "id": "2deb7934-a9ce-476f-9c5a-d18ceec48c9a",
   "metadata": {},
   "outputs": [],
   "source": [
    "total_df = df[['data_group', 'total_revenue', 'revenue_account']]"
   ]
  },
  {
   "cell_type": "code",
   "execution_count": 41,
   "id": "36807c0f-faf2-40c5-8fc3-b5f4b52ed15f",
   "metadata": {},
   "outputs": [],
   "source": [
    "total_df = total_df.rename(columns={\"total_revenue\":\"may_revenue\", \"revenue_account\":\"may_revenue_account\"})"
   ]
  },
  {
   "cell_type": "code",
   "execution_count": 42,
   "id": "f5abbe10-864b-4fda-978b-ea6a66a6b97e",
   "metadata": {},
   "outputs": [
    {
     "data": {
      "text/html": [
       "<div>\n",
       "<style scoped>\n",
       "    .dataframe tbody tr th:only-of-type {\n",
       "        vertical-align: middle;\n",
       "    }\n",
       "\n",
       "    .dataframe tbody tr th {\n",
       "        vertical-align: top;\n",
       "    }\n",
       "\n",
       "    .dataframe thead th {\n",
       "        text-align: right;\n",
       "    }\n",
       "</style>\n",
       "<table border=\"1\" class=\"dataframe\">\n",
       "  <thead>\n",
       "    <tr style=\"text-align: right;\">\n",
       "      <th></th>\n",
       "      <th>data_group</th>\n",
       "      <th>may_revenue</th>\n",
       "      <th>may_revenue_account</th>\n",
       "    </tr>\n",
       "  </thead>\n",
       "  <tbody>\n",
       "    <tr>\n",
       "      <th>6</th>\n",
       "      <td>MED AUM HIGH FREQ</td>\n",
       "      <td>84660.603200</td>\n",
       "      <td>1511.796486</td>\n",
       "    </tr>\n",
       "    <tr>\n",
       "      <th>8</th>\n",
       "      <td>MED AUM MED FREQ</td>\n",
       "      <td>55713.237750</td>\n",
       "      <td>227.400970</td>\n",
       "    </tr>\n",
       "    <tr>\n",
       "      <th>2</th>\n",
       "      <td>HIGH AUM MED FREQ</td>\n",
       "      <td>27643.098825</td>\n",
       "      <td>1727.693677</td>\n",
       "    </tr>\n",
       "    <tr>\n",
       "      <th>7</th>\n",
       "      <td>MED AUM LOW FREQ</td>\n",
       "      <td>11944.967650</td>\n",
       "      <td>48.954785</td>\n",
       "    </tr>\n",
       "    <tr>\n",
       "      <th>5</th>\n",
       "      <td>LOW AUM MED FREQ</td>\n",
       "      <td>4101.102225</td>\n",
       "      <td>20.103442</td>\n",
       "    </tr>\n",
       "    <tr>\n",
       "      <th>4</th>\n",
       "      <td>LOW AUM LOW FREQ</td>\n",
       "      <td>3571.545150</td>\n",
       "      <td>4.532418</td>\n",
       "    </tr>\n",
       "    <tr>\n",
       "      <th>1</th>\n",
       "      <td>HIGH AUM LOW FREQ</td>\n",
       "      <td>489.206800</td>\n",
       "      <td>48.920680</td>\n",
       "    </tr>\n",
       "    <tr>\n",
       "      <th>9</th>\n",
       "      <td>other</td>\n",
       "      <td>271.522000</td>\n",
       "      <td>135.761000</td>\n",
       "    </tr>\n",
       "    <tr>\n",
       "      <th>3</th>\n",
       "      <td>LOW AUM HIGH FREQ</td>\n",
       "      <td>-486.541275</td>\n",
       "      <td>-60.817659</td>\n",
       "    </tr>\n",
       "    <tr>\n",
       "      <th>0</th>\n",
       "      <td>HIGH AUM HIGH FREQ</td>\n",
       "      <td>-2650.182025</td>\n",
       "      <td>-331.272753</td>\n",
       "    </tr>\n",
       "  </tbody>\n",
       "</table>\n",
       "</div>"
      ],
      "text/plain": [
       "           data_group   may_revenue  may_revenue_account\n",
       "6   MED AUM HIGH FREQ  84660.603200          1511.796486\n",
       "8    MED AUM MED FREQ  55713.237750           227.400970\n",
       "2   HIGH AUM MED FREQ  27643.098825          1727.693677\n",
       "7    MED AUM LOW FREQ  11944.967650            48.954785\n",
       "5    LOW AUM MED FREQ   4101.102225            20.103442\n",
       "4    LOW AUM LOW FREQ   3571.545150             4.532418\n",
       "1   HIGH AUM LOW FREQ    489.206800            48.920680\n",
       "9               other    271.522000           135.761000\n",
       "3   LOW AUM HIGH FREQ   -486.541275           -60.817659\n",
       "0  HIGH AUM HIGH FREQ  -2650.182025          -331.272753"
      ]
     },
     "execution_count": 42,
     "metadata": {},
     "output_type": "execute_result"
    }
   ],
   "source": [
    "total_df"
   ]
  },
  {
   "cell_type": "code",
   "execution_count": 14,
   "id": "69d9eee6-c954-4622-af23-bf664f9b1a9e",
   "metadata": {},
   "outputs": [],
   "source": [
    "df2 = pd.read_sql_query(query2, engine)"
   ]
  },
  {
   "cell_type": "code",
   "execution_count": 43,
   "id": "f71935a3-120f-475c-a37d-3f43315fb54b",
   "metadata": {},
   "outputs": [],
   "source": [
    "df2['revenue_account'] = df2['total_revenue']/df2['total_accounts']"
   ]
  },
  {
   "cell_type": "code",
   "execution_count": 44,
   "id": "3691a830-31b3-4929-85f1-9a0bcb232345",
   "metadata": {},
   "outputs": [],
   "source": [
    "total_df = total_df.merge(df2[['data_group','total_revenue', 'revenue_account']], on='data_group', how='left')\n",
    "total_df = total_df.rename(columns={\"total_revenue\":\"april_revenue\", \"revenue_account\":\"april_revenue_account\"})"
   ]
  },
  {
   "cell_type": "code",
   "execution_count": 18,
   "id": "ff62ccc8-7608-48e4-98d2-056142157734",
   "metadata": {},
   "outputs": [],
   "source": [
    "df3 = pd.read_sql_query(query3, engine)"
   ]
  },
  {
   "cell_type": "code",
   "execution_count": 46,
   "id": "efad573b-6f05-4602-ab38-489982a546f2",
   "metadata": {},
   "outputs": [],
   "source": [
    "df3['revenue_account'] = df3['total_revenue']/df3['total_accounts']"
   ]
  },
  {
   "cell_type": "code",
   "execution_count": 47,
   "id": "a10445b5-c7cc-4a32-bdea-396eccf0583b",
   "metadata": {},
   "outputs": [],
   "source": [
    "total_df = total_df.merge(df3[['data_group','total_revenue', 'revenue_account']], on='data_group', how='left')\n",
    "total_df = total_df.rename(columns={\"total_revenue\":\"march_revenue\", \"revenue_account\":\"march_revenue_account\"})"
   ]
  },
  {
   "cell_type": "code",
   "execution_count": 22,
   "id": "4cf1fd7c-b3f0-4a03-8c82-a4af3df603e6",
   "metadata": {},
   "outputs": [],
   "source": [
    "df4 = pd.read_sql_query(query4, engine)"
   ]
  },
  {
   "cell_type": "code",
   "execution_count": 48,
   "id": "ea11795b-3411-4765-a537-065dba0a1859",
   "metadata": {},
   "outputs": [],
   "source": [
    "df4['revenue_account'] = df4['total_revenue']/df4['total_accounts']"
   ]
  },
  {
   "cell_type": "code",
   "execution_count": 49,
   "id": "1629e882-af24-4269-b47a-26f88f38ca72",
   "metadata": {},
   "outputs": [],
   "source": [
    "total_df = total_df.merge(df4[['data_group','total_revenue', 'revenue_account']], on='data_group', how='left')\n",
    "total_df = total_df.rename(columns={\"total_revenue\":\"february_revenue\", \"revenue_account\":\"february_revenue_account\"})"
   ]
  },
  {
   "cell_type": "code",
   "execution_count": 34,
   "id": "7b9be898-7ae9-4baa-94fa-d09394e67fdc",
   "metadata": {},
   "outputs": [],
   "source": [
    "df0 = pd.read_sql_query(query0, engine)"
   ]
  },
  {
   "cell_type": "code",
   "execution_count": 50,
   "id": "dfbf4017-0673-4c4a-a963-d0dcb7808a20",
   "metadata": {},
   "outputs": [],
   "source": [
    "df0['revenue_account'] = df0['total_revenue']/df0['total_accounts']"
   ]
  },
  {
   "cell_type": "code",
   "execution_count": 51,
   "id": "a46b5f94-6df9-43a8-89b4-d64f4915de58",
   "metadata": {},
   "outputs": [],
   "source": [
    "total_df = total_df.merge(df0[['data_group','total_revenue', 'revenue_account']], on='data_group', how='left')\n",
    "total_df = total_df.rename(columns={\"total_revenue\":\"june_revenue\", \"revenue_account\":\"june_revenue_account\"})"
   ]
  },
  {
   "cell_type": "code",
   "execution_count": null,
   "id": "d029199c-589a-4002-9b73-554768d1e5d6",
   "metadata": {},
   "outputs": [],
   "source": []
  },
  {
   "cell_type": "code",
   "execution_count": 52,
   "id": "c1923ab9-b7af-42c6-95fb-ed8dc4927d71",
   "metadata": {},
   "outputs": [
    {
     "data": {
      "text/html": [
       "<div>\n",
       "<style scoped>\n",
       "    .dataframe tbody tr th:only-of-type {\n",
       "        vertical-align: middle;\n",
       "    }\n",
       "\n",
       "    .dataframe tbody tr th {\n",
       "        vertical-align: top;\n",
       "    }\n",
       "\n",
       "    .dataframe thead th {\n",
       "        text-align: right;\n",
       "    }\n",
       "</style>\n",
       "<table border=\"1\" class=\"dataframe\">\n",
       "  <thead>\n",
       "    <tr style=\"text-align: right;\">\n",
       "      <th></th>\n",
       "      <th>data_group</th>\n",
       "      <th>may_revenue</th>\n",
       "      <th>may_revenue_account</th>\n",
       "      <th>april_revenue</th>\n",
       "      <th>april_revenue_account</th>\n",
       "      <th>march_revenue</th>\n",
       "      <th>march_revenue_account</th>\n",
       "      <th>february_revenue</th>\n",
       "      <th>february_revenue_account</th>\n",
       "      <th>june_revenue</th>\n",
       "      <th>june_revenue_account</th>\n",
       "    </tr>\n",
       "  </thead>\n",
       "  <tbody>\n",
       "    <tr>\n",
       "      <th>0</th>\n",
       "      <td>MED AUM HIGH FREQ</td>\n",
       "      <td>84660.603200</td>\n",
       "      <td>1511.796486</td>\n",
       "      <td>80516.039750</td>\n",
       "      <td>1548.385380</td>\n",
       "      <td>33424.593475</td>\n",
       "      <td>726.621597</td>\n",
       "      <td>13272.925325</td>\n",
       "      <td>282.402666</td>\n",
       "      <td>44501.544025</td>\n",
       "      <td>635.736343</td>\n",
       "    </tr>\n",
       "    <tr>\n",
       "      <th>1</th>\n",
       "      <td>MED AUM MED FREQ</td>\n",
       "      <td>55713.237750</td>\n",
       "      <td>227.400970</td>\n",
       "      <td>66928.635500</td>\n",
       "      <td>240.750487</td>\n",
       "      <td>88629.829175</td>\n",
       "      <td>299.425099</td>\n",
       "      <td>110609.168075</td>\n",
       "      <td>343.506733</td>\n",
       "      <td>67514.472710</td>\n",
       "      <td>253.813807</td>\n",
       "    </tr>\n",
       "    <tr>\n",
       "      <th>2</th>\n",
       "      <td>HIGH AUM MED FREQ</td>\n",
       "      <td>27643.098825</td>\n",
       "      <td>1727.693677</td>\n",
       "      <td>35599.653875</td>\n",
       "      <td>2373.310258</td>\n",
       "      <td>41318.368525</td>\n",
       "      <td>2754.557902</td>\n",
       "      <td>21729.885575</td>\n",
       "      <td>1448.659038</td>\n",
       "      <td>12858.662625</td>\n",
       "      <td>714.370146</td>\n",
       "    </tr>\n",
       "    <tr>\n",
       "      <th>3</th>\n",
       "      <td>MED AUM LOW FREQ</td>\n",
       "      <td>11944.967650</td>\n",
       "      <td>48.954785</td>\n",
       "      <td>9141.988100</td>\n",
       "      <td>37.012098</td>\n",
       "      <td>7489.238575</td>\n",
       "      <td>32.420946</td>\n",
       "      <td>4659.644350</td>\n",
       "      <td>21.774039</td>\n",
       "      <td>5132.903925</td>\n",
       "      <td>21.298357</td>\n",
       "    </tr>\n",
       "    <tr>\n",
       "      <th>4</th>\n",
       "      <td>LOW AUM MED FREQ</td>\n",
       "      <td>4101.102225</td>\n",
       "      <td>20.103442</td>\n",
       "      <td>1094.097225</td>\n",
       "      <td>6.435866</td>\n",
       "      <td>8633.970800</td>\n",
       "      <td>38.373204</td>\n",
       "      <td>8366.187125</td>\n",
       "      <td>35.004967</td>\n",
       "      <td>2410.583495</td>\n",
       "      <td>13.853928</td>\n",
       "    </tr>\n",
       "    <tr>\n",
       "      <th>5</th>\n",
       "      <td>LOW AUM LOW FREQ</td>\n",
       "      <td>3571.545150</td>\n",
       "      <td>4.532418</td>\n",
       "      <td>3740.463700</td>\n",
       "      <td>4.777093</td>\n",
       "      <td>7361.523375</td>\n",
       "      <td>7.589199</td>\n",
       "      <td>4377.478250</td>\n",
       "      <td>3.573452</td>\n",
       "      <td>2488.507925</td>\n",
       "      <td>2.958987</td>\n",
       "    </tr>\n",
       "    <tr>\n",
       "      <th>6</th>\n",
       "      <td>HIGH AUM LOW FREQ</td>\n",
       "      <td>489.206800</td>\n",
       "      <td>48.920680</td>\n",
       "      <td>625.464000</td>\n",
       "      <td>52.122000</td>\n",
       "      <td>373.064000</td>\n",
       "      <td>37.306400</td>\n",
       "      <td>785.964000</td>\n",
       "      <td>65.497000</td>\n",
       "      <td>180.954800</td>\n",
       "      <td>18.095480</td>\n",
       "    </tr>\n",
       "    <tr>\n",
       "      <th>7</th>\n",
       "      <td>other</td>\n",
       "      <td>271.522000</td>\n",
       "      <td>135.761000</td>\n",
       "      <td>321.081200</td>\n",
       "      <td>107.027067</td>\n",
       "      <td>7.371200</td>\n",
       "      <td>1.228533</td>\n",
       "      <td>2.154000</td>\n",
       "      <td>1.077000</td>\n",
       "      <td>202.440000</td>\n",
       "      <td>101.220000</td>\n",
       "    </tr>\n",
       "    <tr>\n",
       "      <th>8</th>\n",
       "      <td>LOW AUM HIGH FREQ</td>\n",
       "      <td>-486.541275</td>\n",
       "      <td>-60.817659</td>\n",
       "      <td>254.879475</td>\n",
       "      <td>50.975895</td>\n",
       "      <td>1859.898100</td>\n",
       "      <td>265.699729</td>\n",
       "      <td>760.865825</td>\n",
       "      <td>190.216456</td>\n",
       "      <td>219.918530</td>\n",
       "      <td>109.959265</td>\n",
       "    </tr>\n",
       "    <tr>\n",
       "      <th>9</th>\n",
       "      <td>HIGH AUM HIGH FREQ</td>\n",
       "      <td>-2650.182025</td>\n",
       "      <td>-331.272753</td>\n",
       "      <td>-2220.110300</td>\n",
       "      <td>-222.011030</td>\n",
       "      <td>21086.472300</td>\n",
       "      <td>2635.809038</td>\n",
       "      <td>44056.564950</td>\n",
       "      <td>6293.794993</td>\n",
       "      <td>1727.670600</td>\n",
       "      <td>172.767060</td>\n",
       "    </tr>\n",
       "  </tbody>\n",
       "</table>\n",
       "</div>"
      ],
      "text/plain": [
       "           data_group   may_revenue  may_revenue_account  april_revenue  \\\n",
       "0   MED AUM HIGH FREQ  84660.603200          1511.796486   80516.039750   \n",
       "1    MED AUM MED FREQ  55713.237750           227.400970   66928.635500   \n",
       "2   HIGH AUM MED FREQ  27643.098825          1727.693677   35599.653875   \n",
       "3    MED AUM LOW FREQ  11944.967650            48.954785    9141.988100   \n",
       "4    LOW AUM MED FREQ   4101.102225            20.103442    1094.097225   \n",
       "5    LOW AUM LOW FREQ   3571.545150             4.532418    3740.463700   \n",
       "6   HIGH AUM LOW FREQ    489.206800            48.920680     625.464000   \n",
       "7               other    271.522000           135.761000     321.081200   \n",
       "8   LOW AUM HIGH FREQ   -486.541275           -60.817659     254.879475   \n",
       "9  HIGH AUM HIGH FREQ  -2650.182025          -331.272753   -2220.110300   \n",
       "\n",
       "   april_revenue_account  march_revenue  march_revenue_account  \\\n",
       "0            1548.385380   33424.593475             726.621597   \n",
       "1             240.750487   88629.829175             299.425099   \n",
       "2            2373.310258   41318.368525            2754.557902   \n",
       "3              37.012098    7489.238575              32.420946   \n",
       "4               6.435866    8633.970800              38.373204   \n",
       "5               4.777093    7361.523375               7.589199   \n",
       "6              52.122000     373.064000              37.306400   \n",
       "7             107.027067       7.371200               1.228533   \n",
       "8              50.975895    1859.898100             265.699729   \n",
       "9            -222.011030   21086.472300            2635.809038   \n",
       "\n",
       "   february_revenue  february_revenue_account  june_revenue  \\\n",
       "0      13272.925325                282.402666  44501.544025   \n",
       "1     110609.168075                343.506733  67514.472710   \n",
       "2      21729.885575               1448.659038  12858.662625   \n",
       "3       4659.644350                 21.774039   5132.903925   \n",
       "4       8366.187125                 35.004967   2410.583495   \n",
       "5       4377.478250                  3.573452   2488.507925   \n",
       "6        785.964000                 65.497000    180.954800   \n",
       "7          2.154000                  1.077000    202.440000   \n",
       "8        760.865825                190.216456    219.918530   \n",
       "9      44056.564950               6293.794993   1727.670600   \n",
       "\n",
       "   june_revenue_account  \n",
       "0            635.736343  \n",
       "1            253.813807  \n",
       "2            714.370146  \n",
       "3             21.298357  \n",
       "4             13.853928  \n",
       "5              2.958987  \n",
       "6             18.095480  \n",
       "7            101.220000  \n",
       "8            109.959265  \n",
       "9            172.767060  "
      ]
     },
     "execution_count": 52,
     "metadata": {},
     "output_type": "execute_result"
    }
   ],
   "source": [
    "total_df"
   ]
  },
  {
   "cell_type": "code",
   "execution_count": null,
   "id": "fa11e462-d952-48bf-8951-0ee543d13869",
   "metadata": {},
   "outputs": [],
   "source": []
  },
  {
   "cell_type": "code",
   "execution_count": 53,
   "id": "86e9d8c8-a902-475b-a7d0-8916bb6d7e65",
   "metadata": {},
   "outputs": [
    {
     "data": {
      "text/plain": [
       "(array([0, 1, 2, 3, 4, 5, 6, 7, 8, 9]),\n",
       " [Text(0, 0, 'MED AUM HIGH FREQ'),\n",
       "  Text(1, 0, 'MED AUM MED FREQ'),\n",
       "  Text(2, 0, 'HIGH AUM MED FREQ'),\n",
       "  Text(3, 0, 'MED AUM LOW FREQ'),\n",
       "  Text(4, 0, 'LOW AUM MED FREQ'),\n",
       "  Text(5, 0, 'LOW AUM LOW FREQ'),\n",
       "  Text(6, 0, 'HIGH AUM LOW FREQ'),\n",
       "  Text(7, 0, 'other'),\n",
       "  Text(8, 0, 'LOW AUM HIGH FREQ'),\n",
       "  Text(9, 0, 'HIGH AUM HIGH FREQ')])"
      ]
     },
     "execution_count": 53,
     "metadata": {},
     "output_type": "execute_result"
    },
    {
     "data": {
      "image/png": "[encoded data removed]",
      "text/plain": [
       "<Figure size 1080x504 with 1 Axes>"
      ]
     },
     "metadata": {
      "needs_background": "light"
     },
     "output_type": "display_data"
    }
   ],
   "source": [
    "total_df.plot(x='data_group', y = ['february_revenue','march_revenue', 'april_revenue', 'may_revenue', 'june_revenue'],\n",
    "        kind='bar',\n",
    "        stacked=False,\n",
    "         figsize=(15,7) )\n",
    "plt.xticks(rotation = 45)"
   ]
  },
  {
   "cell_type": "code",
   "execution_count": 54,
   "id": "7e44bf30-b3a7-4b6a-accf-52e2c5d8d9bd",
   "metadata": {},
   "outputs": [
    {
     "data": {
      "text/plain": [
       "(array([0, 1, 2, 3, 4, 5, 6, 7, 8, 9]),\n",
       " [Text(0, 0, 'MED AUM HIGH FREQ'),\n",
       "  Text(1, 0, 'MED AUM MED FREQ'),\n",
       "  Text(2, 0, 'HIGH AUM MED FREQ'),\n",
       "  Text(3, 0, 'MED AUM LOW FREQ'),\n",
       "  Text(4, 0, 'LOW AUM MED FREQ'),\n",
       "  Text(5, 0, 'LOW AUM LOW FREQ'),\n",
       "  Text(6, 0, 'HIGH AUM LOW FREQ'),\n",
       "  Text(7, 0, 'other'),\n",
       "  Text(8, 0, 'LOW AUM HIGH FREQ'),\n",
       "  Text(9, 0, 'HIGH AUM HIGH FREQ')])"
      ]
     },
     "execution_count": 54,
     "metadata": {},
     "output_type": "execute_result"
    },
    {
     "data": {
      "image/png": "[encoded data removed]",
      "text/plain": [
       "<Figure size 1080x504 with 1 Axes>"
      ]
     },
     "metadata": {
      "needs_background": "light"
     },
     "output_type": "display_data"
    }
   ],
   "source": [
    "total_df.plot(x='data_group', y = ['february_revenue_account','march_revenue_account', 'april_revenue_account', 'may_revenue_account', 'june_revenue_account'],\n",
    "        kind='bar',\n",
    "        stacked=False,\n",
    "         figsize=(15,7) )\n",
    "plt.xticks(rotation = 45)"
   ]
  },
  {
   "cell_type": "code",
   "execution_count": 55,
   "id": "eab44915-4090-4e6c-9f77-c656f6fbd620",
   "metadata": {},
   "outputs": [],
   "source": [
    "total_df.to_csv('trading_2021.csv')"
   ]
  },
  {
   "cell_type": "code",
   "execution_count": null,
   "id": "6c051309-ad4f-471d-8cea-ad0461595f2a",
   "metadata": {},
   "outputs": [],
   "source": []
  }
 ],
 "metadata": {
  "kernelspec": {
   "display_name": "Python 3.8.9 64-bit",
   "language": "python",
   "name": "python3"
  },
  "language_info": {
   "codemirror_mode": {
    "name": "ipython",
    "version": 3
   },
   "file_extension": ".py",
   "mimetype": "text/x-python",
   "name": "python",
   "nbconvert_exporter": "python",
   "pygments_lexer": "ipython3",
   "version": "3.8.9"
  },
  "vscode": {
   "interpreter": {
    "hash": "31f2aee4e71d21fbe5cf8b01ff0e069b9275f58929596ceb00d14d90e3e16cd6"
   }
  }
 },
 "nbformat": 4,
 "nbformat_minor": 5
}
